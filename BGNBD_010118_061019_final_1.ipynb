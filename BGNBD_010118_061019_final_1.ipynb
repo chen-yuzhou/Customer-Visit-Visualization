{
 "cells": [
  {
   "cell_type": "markdown",
   "metadata": {},
   "source": [
    "## In this notebook, two models are built to predict number of patron visits. \n",
    "\n",
    "## Concept of the models\n",
    "\n",
    "    The basic concept of the two models are the same. The models assume that each patron has a rate of dropout after\n",
    "    each visit. Conditional on not dropping out, the model further assumes that each patron has a rate of visiting the \n",
    "    casino.The model allows the dropout rate and visiting rate to be heterogeneously different. \n",
    "    \n",
    "    The models uses historical patron visits data before a given date (calibration period) to predict the number of \n",
    "    patron visits during a certain period of time after calibration date (holdout period). \n",
    "\n",
    "## Data needed to build the model:\n",
    "\n",
    "    The data we need to build this model is fairly simple. For each patron that visited the casino during calibration \n",
    "    period, we only need the following three pieces of information:\n",
    "    \n",
    "        1. Frequency: number of REPEATED VISITS this patron made since first visit (this does not include first visit);\n",
    "        \n",
    "        2. Recency: the TIME OF THE MOST RECENT visit this patron made relative of first visit (e.g., if a patron's \n",
    "        first visit is on 01-01-2018, and the patron's most recent visit is 02-01-2018, then the time of most recent \\\n",
    "        visit relative of first visit would be 31 days);\n",
    "        \n",
    "        3. Age of the patron: a patron's \"age\" is the duration between a patron's first visit in calibration and the \n",
    "        end of calibration). \n",
    "    \n",
    "    A data frame containing these information is called \"Customer by Sufficient Statistics matrix\" (CBS).\n",
    "\n",
    "## Data Set-Up:\n",
    "\n",
    "    Data source: dbo_CDS_StatDay\n",
    "    Time Frame: 01/01/2018 – 06/10/2019\n",
    "    Population: Patrons who made at least one visit\n",
    "    Calibration Period: 01/01/2018 – 12/31/2018\n",
    "    Holdout Period: 01/01/2019 – 06/10/2019\n",
    "    \n",
    "## How the models work:\n",
    "\n",
    "    For each individual, we know:\n",
    "    \n",
    "        Frequency: The number of REPEATED VISITS SINCE FIRST VISIT during calibration period ;\n",
    "        Recency: The MOST RECENT time of visit relevant of the individual’s first visit during calibration period;\n",
    "        Age: Time since an individual's first visit till the end of calibration period.\n",
    "\n",
    "    The model then predicts:\n",
    "    \n",
    "        The number of visits this individual will make during holdout period.\n",
    "        We can arbitrarily change the holdout period and feed this into the model to predict the number of visits \n",
    "        this patron would make during holdout period.\n",
    "\n",
    "## Query used to get the data is shown in the following:\n",
    "\n",
    "    SELECT dbo_CDS_StatDay.PlayerID, dbo_CDS_StatDay.GamingDate\n",
    "    FROM dbo_CDS_StatDay\n",
    "    WHERE dbo_CDS_StatDay.GamingDate >= '2018-01-01' AND dbo_CDS_StatDay.GamingDate <= '2019-06-10'\n",
    "    GROUP BY dbo_CDS_StatDay.PlayerID, dbo_CDS_StatDay.GamingDate;\n",
    "    "
   ]
  },
  {
   "cell_type": "markdown",
   "metadata": {},
   "source": [
    "## Part 1: Intial data processing.\n",
    "    \n",
    "    For each patron, group the same-day visits as one visit.\n",
    "    \n",
    "    Also find the date of the first visit.\n",
    "    \n",
    "    Transform patron visiting data into customer-by-sufficient-statistics matrix (CBS):\n",
    "       \n",
    "        .Seperate patron visit record data into calibration and holdout period. \n",
    "        .For each patron, identify the patron's calibration period recency, frequency and age.\n",
    "        .For each patron, identify the patron's holdout period frequency."
   ]
  },
  {
   "cell_type": "code",
   "execution_count": 1,
   "metadata": {},
   "outputs": [
    {
     "name": "stdout",
     "output_type": "stream",
     "text": [
      "Requirement already satisfied: lifetimes in c:\\users\\matt\\anaconda3\\lib\\site-packages (0.11.1)\n",
      "Requirement already satisfied: dill>=0.2.6 in c:\\users\\matt\\anaconda3\\lib\\site-packages (from lifetimes) (0.3.0)\n",
      "Requirement already satisfied: pandas>=0.24.0 in c:\\users\\matt\\anaconda3\\lib\\site-packages (from lifetimes) (0.24.2)\n",
      "Requirement already satisfied: autograd>=1.2.0 in c:\\users\\matt\\anaconda3\\lib\\site-packages (from lifetimes) (1.3)\n",
      "Requirement already satisfied: numpy>=1.10.0 in c:\\users\\matt\\anaconda3\\lib\\site-packages (from lifetimes) (1.16.4)\n",
      "Requirement already satisfied: scipy>=1.0.0 in c:\\users\\matt\\anaconda3\\lib\\site-packages (from lifetimes) (1.2.1)\n",
      "Requirement already satisfied: pytz>=2011k in c:\\users\\matt\\anaconda3\\lib\\site-packages (from pandas>=0.24.0->lifetimes) (2019.1)\n",
      "Requirement already satisfied: python-dateutil>=2.5.0 in c:\\users\\matt\\anaconda3\\lib\\site-packages (from pandas>=0.24.0->lifetimes) (2.8.0)\n",
      "Requirement already satisfied: future>=0.15.2 in c:\\users\\matt\\anaconda3\\lib\\site-packages (from autograd>=1.2.0->lifetimes) (0.17.1)\n",
      "Requirement already satisfied: six>=1.5 in c:\\users\\matt\\anaconda3\\lib\\site-packages (from python-dateutil>=2.5.0->pandas>=0.24.0->lifetimes) (1.12.0)\n",
      "Note: you may need to restart the kernel to use updated packages.\n"
     ]
    }
   ],
   "source": [
    "pip install lifetimes"
   ]
  },
  {
   "cell_type": "code",
   "execution_count": 2,
   "metadata": {},
   "outputs": [],
   "source": [
    "import pandas as pd\n",
    "import numpy as np\n",
    "import seaborn as sns\n",
    "import lifetimes\n",
    "from lifetimes.utils import calibration_and_holdout_data"
   ]
  },
  {
   "cell_type": "code",
   "execution_count": 3,
   "metadata": {},
   "outputs": [
    {
     "data": {
      "text/html": [
       "<div>\n",
       "<style scoped>\n",
       "    .dataframe tbody tr th:only-of-type {\n",
       "        vertical-align: middle;\n",
       "    }\n",
       "\n",
       "    .dataframe tbody tr th {\n",
       "        vertical-align: top;\n",
       "    }\n",
       "\n",
       "    .dataframe thead th {\n",
       "        text-align: right;\n",
       "    }\n",
       "</style>\n",
       "<table border=\"1\" class=\"dataframe\">\n",
       "  <thead>\n",
       "    <tr style=\"text-align: right;\">\n",
       "      <th></th>\n",
       "      <th>PlayerID</th>\n",
       "      <th>GamingDate</th>\n",
       "    </tr>\n",
       "  </thead>\n",
       "  <tbody>\n",
       "    <tr>\n",
       "      <th>0</th>\n",
       "      <td>100033</td>\n",
       "      <td>2018-01-01</td>\n",
       "    </tr>\n",
       "    <tr>\n",
       "      <th>1</th>\n",
       "      <td>100038</td>\n",
       "      <td>2018-01-01</td>\n",
       "    </tr>\n",
       "    <tr>\n",
       "      <th>2</th>\n",
       "      <td>100084</td>\n",
       "      <td>2018-01-01</td>\n",
       "    </tr>\n",
       "    <tr>\n",
       "      <th>3</th>\n",
       "      <td>100101</td>\n",
       "      <td>2018-01-01</td>\n",
       "    </tr>\n",
       "    <tr>\n",
       "      <th>4</th>\n",
       "      <td>100107</td>\n",
       "      <td>2018-01-01</td>\n",
       "    </tr>\n",
       "  </tbody>\n",
       "</table>\n",
       "</div>"
      ],
      "text/plain": [
       "   PlayerID  GamingDate\n",
       "0    100033  2018-01-01\n",
       "1    100038  2018-01-01\n",
       "2    100084  2018-01-01\n",
       "3    100101  2018-01-01\n",
       "4    100107  2018-01-01"
      ]
     },
     "execution_count": 3,
     "metadata": {},
     "output_type": "execute_result"
    }
   ],
   "source": [
    "# Read in data from query:\n",
    "\n",
    "visits = pd.read_csv('visits_by_day_2018.txt',sep = ',')\n",
    "visits.head()"
   ]
  },
  {
   "cell_type": "code",
   "execution_count": 4,
   "metadata": {},
   "outputs": [
    {
     "data": {
      "text/html": [
       "<div>\n",
       "<style scoped>\n",
       "    .dataframe tbody tr th:only-of-type {\n",
       "        vertical-align: middle;\n",
       "    }\n",
       "\n",
       "    .dataframe tbody tr th {\n",
       "        vertical-align: top;\n",
       "    }\n",
       "\n",
       "    .dataframe thead th {\n",
       "        text-align: right;\n",
       "    }\n",
       "</style>\n",
       "<table border=\"1\" class=\"dataframe\">\n",
       "  <thead>\n",
       "    <tr style=\"text-align: right;\">\n",
       "      <th></th>\n",
       "      <th>PlayerID</th>\n",
       "      <th>GamingDate</th>\n",
       "      <th>FirstVisit</th>\n",
       "    </tr>\n",
       "  </thead>\n",
       "  <tbody>\n",
       "    <tr>\n",
       "      <th>0</th>\n",
       "      <td>100033</td>\n",
       "      <td>2018-01-01</td>\n",
       "      <td>2018-01-01</td>\n",
       "    </tr>\n",
       "    <tr>\n",
       "      <th>1</th>\n",
       "      <td>100033</td>\n",
       "      <td>2018-01-04</td>\n",
       "      <td>2018-01-01</td>\n",
       "    </tr>\n",
       "    <tr>\n",
       "      <th>2</th>\n",
       "      <td>100033</td>\n",
       "      <td>2018-01-07</td>\n",
       "      <td>2018-01-01</td>\n",
       "    </tr>\n",
       "    <tr>\n",
       "      <th>3</th>\n",
       "      <td>100033</td>\n",
       "      <td>2018-01-10</td>\n",
       "      <td>2018-01-01</td>\n",
       "    </tr>\n",
       "    <tr>\n",
       "      <th>4</th>\n",
       "      <td>100033</td>\n",
       "      <td>2018-01-11</td>\n",
       "      <td>2018-01-01</td>\n",
       "    </tr>\n",
       "  </tbody>\n",
       "</table>\n",
       "</div>"
      ],
      "text/plain": [
       "   PlayerID  GamingDate  FirstVisit\n",
       "0    100033  2018-01-01  2018-01-01\n",
       "1    100033  2018-01-04  2018-01-01\n",
       "2    100033  2018-01-07  2018-01-01\n",
       "3    100033  2018-01-10  2018-01-01\n",
       "4    100033  2018-01-11  2018-01-01"
      ]
     },
     "execution_count": 4,
     "metadata": {},
     "output_type": "execute_result"
    }
   ],
   "source": [
    "# Group same-day visits for each patron and get the date of first visit of each patron:\n",
    "\n",
    "first_visit = visits.groupby(by = 'PlayerID')['GamingDate'].min()\\\n",
    "                    .reset_index()\\\n",
    "                    .rename(columns = {'GamingDate':'FirstVisit'})\n",
    "player_visits = visits.merge(first_visit, on = 'PlayerID')\n",
    "player_visits.head()"
   ]
  },
  {
   "cell_type": "code",
   "execution_count": 5,
   "metadata": {},
   "outputs": [
    {
     "data": {
      "text/html": [
       "<div>\n",
       "<style scoped>\n",
       "    .dataframe tbody tr th:only-of-type {\n",
       "        vertical-align: middle;\n",
       "    }\n",
       "\n",
       "    .dataframe tbody tr th {\n",
       "        vertical-align: top;\n",
       "    }\n",
       "\n",
       "    .dataframe thead th {\n",
       "        text-align: right;\n",
       "    }\n",
       "</style>\n",
       "<table border=\"1\" class=\"dataframe\">\n",
       "  <thead>\n",
       "    <tr style=\"text-align: right;\">\n",
       "      <th></th>\n",
       "      <th>PlayerID</th>\n",
       "      <th>frequency_cal</th>\n",
       "      <th>recency_cal</th>\n",
       "      <th>T_cal</th>\n",
       "      <th>frequency_holdout</th>\n",
       "      <th>duration_holdout</th>\n",
       "      <th>FirstVisit</th>\n",
       "    </tr>\n",
       "  </thead>\n",
       "  <tbody>\n",
       "    <tr>\n",
       "      <th>0</th>\n",
       "      <td>100001</td>\n",
       "      <td>0.0</td>\n",
       "      <td>0.0</td>\n",
       "      <td>327.0</td>\n",
       "      <td>0.0</td>\n",
       "      <td>161</td>\n",
       "      <td>2018-02-07</td>\n",
       "    </tr>\n",
       "    <tr>\n",
       "      <th>1</th>\n",
       "      <td>100005</td>\n",
       "      <td>1.0</td>\n",
       "      <td>72.0</td>\n",
       "      <td>193.0</td>\n",
       "      <td>0.0</td>\n",
       "      <td>161</td>\n",
       "      <td>2018-06-21</td>\n",
       "    </tr>\n",
       "    <tr>\n",
       "      <th>2</th>\n",
       "      <td>100006</td>\n",
       "      <td>4.0</td>\n",
       "      <td>133.0</td>\n",
       "      <td>268.0</td>\n",
       "      <td>1.0</td>\n",
       "      <td>161</td>\n",
       "      <td>2018-04-07</td>\n",
       "    </tr>\n",
       "    <tr>\n",
       "      <th>3</th>\n",
       "      <td>100011</td>\n",
       "      <td>15.0</td>\n",
       "      <td>334.0</td>\n",
       "      <td>336.0</td>\n",
       "      <td>12.0</td>\n",
       "      <td>161</td>\n",
       "      <td>2018-01-29</td>\n",
       "    </tr>\n",
       "    <tr>\n",
       "      <th>4</th>\n",
       "      <td>100015</td>\n",
       "      <td>45.0</td>\n",
       "      <td>358.0</td>\n",
       "      <td>361.0</td>\n",
       "      <td>5.0</td>\n",
       "      <td>161</td>\n",
       "      <td>2018-01-04</td>\n",
       "    </tr>\n",
       "  </tbody>\n",
       "</table>\n",
       "</div>"
      ],
      "text/plain": [
       "   PlayerID  frequency_cal  recency_cal  T_cal  frequency_holdout  \\\n",
       "0    100001            0.0          0.0  327.0                0.0   \n",
       "1    100005            1.0         72.0  193.0                0.0   \n",
       "2    100006            4.0        133.0  268.0                1.0   \n",
       "3    100011           15.0        334.0  336.0               12.0   \n",
       "4    100015           45.0        358.0  361.0                5.0   \n",
       "\n",
       "   duration_holdout  FirstVisit  \n",
       "0               161  2018-02-07  \n",
       "1               161  2018-06-21  \n",
       "2               161  2018-04-07  \n",
       "3               161  2018-01-29  \n",
       "4               161  2018-01-04  "
      ]
     },
     "execution_count": 5,
     "metadata": {},
     "output_type": "execute_result"
    }
   ],
   "source": [
    "# Transform customer visiting records to individual-level calibration and holdout summary data.\n",
    "# (This is called CBS matrix: Customer-by-Sufficient-Statistic matrix):\n",
    "\n",
    "\n",
    "CBS = calibration_and_holdout_data(visits,\\\n",
    "                                   'PlayerID', 'GamingDate', \\\n",
    "                                    calibration_period_end='2018-12-31', \\\n",
    "                                    observation_period_end='2019-06-10' ).reset_index()\n",
    "\n",
    "CBS = CBS.merge(first_visit, on = 'PlayerID')\n",
    "CBS.head()"
   ]
  },
  {
   "cell_type": "markdown",
   "metadata": {},
   "source": [
    "## Part 2: Fitting a Beta-Geometric NBD (BG/NBD) Model "
   ]
  },
  {
   "cell_type": "markdown",
   "metadata": {},
   "source": [
    "### Step 1: Estimate BG/NBD Model parameters."
   ]
  },
  {
   "cell_type": "code",
   "execution_count": 6,
   "metadata": {},
   "outputs": [],
   "source": [
    "from lifetimes.utils import *\n",
    "from lifetimes import BetaGeoFitter\n",
    "from lifetimes import ParetoNBDFitter\n",
    "from lifetimes.plotting import *\n",
    "\n",
    "bgf = BetaGeoFitter()\n",
    "pnf = ParetoNBDFitter()"
   ]
  },
  {
   "cell_type": "code",
   "execution_count": 7,
   "metadata": {},
   "outputs": [
    {
     "data": {
      "text/plain": [
       "<lifetimes.BetaGeoFitter: fitted with 137667 subjects, a: 0.12, alpha: 5.60, b: 0.88, r: 0.28>"
      ]
     },
     "execution_count": 7,
     "metadata": {},
     "output_type": "execute_result"
    }
   ],
   "source": [
    "# Estimating parameters of a bg/nbd model based on calibration period data:\n",
    "\n",
    "bgnbd_model = bgf.fit(CBS['frequency_cal'], CBS['recency_cal'], CBS['T_cal'])\n",
    "bgnbd_model"
   ]
  },
  {
   "cell_type": "markdown",
   "metadata": {},
   "source": [
    "### Step 2: Assessing BG/NBD model fitness.\n",
    "\n",
    "    First, we will generate simulated data with estimated model parameters and see how the model fits on training data. \n",
    "    We will count the number of patrons who made repeated number of visits of 0, 1, 2, 3, ..., 40, 40+ times during \n",
    "    calibration period repectively, and compare the actual counts to the simulated counts. A bar plot will be used to \n",
    "    visulize the comparison. \n",
    "    "
   ]
  },
  {
   "cell_type": "code",
   "execution_count": 9,
   "metadata": {},
   "outputs": [
    {
     "data": {
      "text/html": [
       "<div>\n",
       "<style scoped>\n",
       "    .dataframe tbody tr th:only-of-type {\n",
       "        vertical-align: middle;\n",
       "    }\n",
       "\n",
       "    .dataframe tbody tr th {\n",
       "        vertical-align: top;\n",
       "    }\n",
       "\n",
       "    .dataframe thead th {\n",
       "        text-align: right;\n",
       "    }\n",
       "</style>\n",
       "<table border=\"1\" class=\"dataframe\">\n",
       "  <thead>\n",
       "    <tr style=\"text-align: right;\">\n",
       "      <th></th>\n",
       "      <th>frequency</th>\n",
       "      <th>recency</th>\n",
       "      <th>T</th>\n",
       "      <th>lambda</th>\n",
       "      <th>p</th>\n",
       "      <th>alive</th>\n",
       "    </tr>\n",
       "    <tr>\n",
       "      <th>customer_id</th>\n",
       "      <th></th>\n",
       "      <th></th>\n",
       "      <th></th>\n",
       "      <th></th>\n",
       "      <th></th>\n",
       "      <th></th>\n",
       "    </tr>\n",
       "  </thead>\n",
       "  <tbody>\n",
       "    <tr>\n",
       "      <th>0.0</th>\n",
       "      <td>1.0</td>\n",
       "      <td>179.704867</td>\n",
       "      <td>327.0</td>\n",
       "      <td>0.017294</td>\n",
       "      <td>3.194793e-01</td>\n",
       "      <td>0.0</td>\n",
       "    </tr>\n",
       "    <tr>\n",
       "      <th>1.0</th>\n",
       "      <td>1.0</td>\n",
       "      <td>149.518868</td>\n",
       "      <td>193.0</td>\n",
       "      <td>0.002077</td>\n",
       "      <td>2.794596e-03</td>\n",
       "      <td>1.0</td>\n",
       "    </tr>\n",
       "    <tr>\n",
       "      <th>2.0</th>\n",
       "      <td>34.0</td>\n",
       "      <td>266.707525</td>\n",
       "      <td>268.0</td>\n",
       "      <td>0.133982</td>\n",
       "      <td>1.616410e-12</td>\n",
       "      <td>1.0</td>\n",
       "    </tr>\n",
       "    <tr>\n",
       "      <th>3.0</th>\n",
       "      <td>1.0</td>\n",
       "      <td>205.110768</td>\n",
       "      <td>336.0</td>\n",
       "      <td>0.002850</td>\n",
       "      <td>1.028656e-01</td>\n",
       "      <td>1.0</td>\n",
       "    </tr>\n",
       "    <tr>\n",
       "      <th>4.0</th>\n",
       "      <td>4.0</td>\n",
       "      <td>344.693234</td>\n",
       "      <td>361.0</td>\n",
       "      <td>0.019199</td>\n",
       "      <td>5.459531e-10</td>\n",
       "      <td>1.0</td>\n",
       "    </tr>\n",
       "  </tbody>\n",
       "</table>\n",
       "</div>"
      ],
      "text/plain": [
       "             frequency     recency      T    lambda             p  alive\n",
       "customer_id                                                             \n",
       "0.0                1.0  179.704867  327.0  0.017294  3.194793e-01    0.0\n",
       "1.0                1.0  149.518868  193.0  0.002077  2.794596e-03    1.0\n",
       "2.0               34.0  266.707525  268.0  0.133982  1.616410e-12    1.0\n",
       "3.0                1.0  205.110768  336.0  0.002850  1.028656e-01    1.0\n",
       "4.0                4.0  344.693234  361.0  0.019199  5.459531e-10    1.0"
      ]
     },
     "execution_count": 9,
     "metadata": {},
     "output_type": "execute_result"
    }
   ],
   "source": [
    "# Simulate calibration visits based on estimated bg/nbd model parameters:\n",
    "\n",
    "simulated_bgnbd = bgf.generate_new_data(size = len(CBS))\n",
    "simulated_bgnbd.head()"
   ]
  },
  {
   "cell_type": "code",
   "execution_count": 10,
   "metadata": {},
   "outputs": [],
   "source": [
    "# Define function to transform individual-level actual calibration and holdout summary data to data frame\n",
    "# with columns of 'freq' and 'count':\n",
    "\n",
    "def transform_cal_hold_to_freq_count(df):\n",
    "    return pd.DataFrame(df['frequency_cal'].value_counts().sort_index())\\\n",
    "                    .reset_index().rename(columns = {'index':'freq','frequency_cal':'count'})"
   ]
  },
  {
   "cell_type": "code",
   "execution_count": 11,
   "metadata": {},
   "outputs": [],
   "source": [
    "# Define function to transform simulated data to dataframe with columns of 'freq' and 'count':\n",
    "\n",
    "def transform_sim_to_freq_count(df):\n",
    "    return pd.DataFrame(df['frequency'].value_counts().\\\n",
    "                        sort_index().reset_index().\\\n",
    "                        rename(columns = {'index': 'freq', 'frequency': 'count'}))"
   ]
  },
  {
   "cell_type": "code",
   "execution_count": 12,
   "metadata": {},
   "outputs": [],
   "source": [
    "# Define function to bin frequencies for dataframe with columns named 'freq' and 'count':\n",
    "\n",
    "def binned_max_freq(df,max_x):\n",
    "    return df.loc[0:max_x].append({'freq':str(max_x) + '+',\\\n",
    "                                   'count':df[df.iloc[:,0] >= max_x].iloc[:,1].sum()},\\\n",
    "                                        ignore_index = True)"
   ]
  },
  {
   "cell_type": "code",
   "execution_count": 13,
   "metadata": {},
   "outputs": [],
   "source": [
    "# Transform individual-level actual calibration and holdout summary data to data frame (customer by sufficient statistics):\n",
    "\n",
    "actual_cal_freq = transform_cal_hold_to_freq_count(CBS)\n",
    "\n",
    "# Transform simulated data to dataframe with columns of 'freq' and 'count':\n",
    "\n",
    "simulated_cal_freq_bgnbd = transform_sim_to_freq_count(simulated_bgnbd)"
   ]
  },
  {
   "cell_type": "code",
   "execution_count": 14,
   "metadata": {},
   "outputs": [],
   "source": [
    "# Group transformed actual and simulated data with max frequency of 40:\n",
    "\n",
    "actual_binned = binned_max_freq(actual_cal_freq, 40)\n",
    "simulated_binned_bgnbd = binned_max_freq(simulated_cal_freq_bgnbd, 40)"
   ]
  },
  {
   "cell_type": "code",
   "execution_count": 15,
   "metadata": {},
   "outputs": [
    {
     "data": {
      "text/html": [
       "<div>\n",
       "<style scoped>\n",
       "    .dataframe tbody tr th:only-of-type {\n",
       "        vertical-align: middle;\n",
       "    }\n",
       "\n",
       "    .dataframe tbody tr th {\n",
       "        vertical-align: top;\n",
       "    }\n",
       "\n",
       "    .dataframe thead th {\n",
       "        text-align: right;\n",
       "    }\n",
       "</style>\n",
       "<table border=\"1\" class=\"dataframe\">\n",
       "  <thead>\n",
       "    <tr style=\"text-align: right;\">\n",
       "      <th></th>\n",
       "      <th>visits</th>\n",
       "      <th>actual_counts</th>\n",
       "      <th>simulated_counts</th>\n",
       "    </tr>\n",
       "  </thead>\n",
       "  <tbody>\n",
       "    <tr>\n",
       "      <th>0</th>\n",
       "      <td>0.0</td>\n",
       "      <td>53840</td>\n",
       "      <td>50790</td>\n",
       "    </tr>\n",
       "    <tr>\n",
       "      <th>1</th>\n",
       "      <td>1.0</td>\n",
       "      <td>19275</td>\n",
       "      <td>22611</td>\n",
       "    </tr>\n",
       "    <tr>\n",
       "      <th>2</th>\n",
       "      <td>2.0</td>\n",
       "      <td>10242</td>\n",
       "      <td>10745</td>\n",
       "    </tr>\n",
       "    <tr>\n",
       "      <th>3</th>\n",
       "      <td>3.0</td>\n",
       "      <td>6476</td>\n",
       "      <td>6970</td>\n",
       "    </tr>\n",
       "    <tr>\n",
       "      <th>4</th>\n",
       "      <td>4.0</td>\n",
       "      <td>4541</td>\n",
       "      <td>5160</td>\n",
       "    </tr>\n",
       "  </tbody>\n",
       "</table>\n",
       "</div>"
      ],
      "text/plain": [
       "  visits  actual_counts  simulated_counts\n",
       "0    0.0          53840             50790\n",
       "1    1.0          19275             22611\n",
       "2    2.0          10242             10745\n",
       "3    3.0           6476              6970\n",
       "4    4.0           4541              5160"
      ]
     },
     "execution_count": 15,
     "metadata": {},
     "output_type": "execute_result"
    }
   ],
   "source": [
    "# Merge actual and simulated frequency and count data to get a table that counts the actual number and simulated\n",
    "# number of patrons who made 0, 1, 2, ..., 40+ repeat transactions during calibration period.\n",
    "# This table is used to generate the bar plot which show the comparison of actual counts and simulated counts\n",
    "# of each visit frequency.\n",
    "# Below shows first five row of this table:\n",
    "\n",
    "cal_actual_sim_bgnbd = actual_binned.merge(simulated_binned_bgnbd, how = 'outer', on = 'freq')\n",
    "cal_actual_sim_bgnbd = cal_actual_sim_bgnbd.rename\\\n",
    "            (columns ={'freq':'visits' ,'count_x':'actual_counts','count_y':\"simulated_counts\"})\n",
    "cal_actual_sim_bgnbd['visits'] = cal_actual_sim_bgnbd['visits'].astype(str)\n",
    "cal_actual_sim_bgnbd.head()"
   ]
  },
  {
   "cell_type": "markdown",
   "metadata": {},
   "source": [
    "    The following chunk of code is a combination of the functions defined above. It takes input of customer-by-sufficient-\n",
    "    statistic matrix (CBS data frame) during calibration period, and an arbitrary maximum lower bound of number of visits\n",
    "    (for example, if we want to group and count patrons who visited 40 times and above, then this maximum lower bound \n",
    "    of visits is 40, and the output lower bound of maximum bin would be \"40+\"). This would output the same table as above.\n",
    "    Because whenever running this function, the function re-estimates the model and simulates again, the new simulation\n",
    "    result varies slightly from the previous simulation."
   ]
  },
  {
   "cell_type": "code",
   "execution_count": 16,
   "metadata": {},
   "outputs": [
    {
     "data": {
      "text/html": [
       "<div>\n",
       "<style scoped>\n",
       "    .dataframe tbody tr th:only-of-type {\n",
       "        vertical-align: middle;\n",
       "    }\n",
       "\n",
       "    .dataframe tbody tr th {\n",
       "        vertical-align: top;\n",
       "    }\n",
       "\n",
       "    .dataframe thead th {\n",
       "        text-align: right;\n",
       "    }\n",
       "</style>\n",
       "<table border=\"1\" class=\"dataframe\">\n",
       "  <thead>\n",
       "    <tr style=\"text-align: right;\">\n",
       "      <th></th>\n",
       "      <th>visits</th>\n",
       "      <th>actual_counts</th>\n",
       "      <th>simulated_counts</th>\n",
       "    </tr>\n",
       "  </thead>\n",
       "  <tbody>\n",
       "    <tr>\n",
       "      <th>0</th>\n",
       "      <td>0.0</td>\n",
       "      <td>53840</td>\n",
       "      <td>50978</td>\n",
       "    </tr>\n",
       "    <tr>\n",
       "      <th>1</th>\n",
       "      <td>1.0</td>\n",
       "      <td>19275</td>\n",
       "      <td>22625</td>\n",
       "    </tr>\n",
       "    <tr>\n",
       "      <th>2</th>\n",
       "      <td>2.0</td>\n",
       "      <td>10242</td>\n",
       "      <td>10735</td>\n",
       "    </tr>\n",
       "    <tr>\n",
       "      <th>3</th>\n",
       "      <td>3.0</td>\n",
       "      <td>6476</td>\n",
       "      <td>6955</td>\n",
       "    </tr>\n",
       "    <tr>\n",
       "      <th>4</th>\n",
       "      <td>4.0</td>\n",
       "      <td>4541</td>\n",
       "      <td>5079</td>\n",
       "    </tr>\n",
       "  </tbody>\n",
       "</table>\n",
       "</div>"
      ],
      "text/plain": [
       "  visits  actual_counts  simulated_counts\n",
       "0    0.0          53840             50978\n",
       "1    1.0          19275             22625\n",
       "2    2.0          10242             10735\n",
       "3    3.0           6476              6955\n",
       "4    4.0           4541              5079"
      ]
     },
     "execution_count": 16,
     "metadata": {},
     "output_type": "execute_result"
    }
   ],
   "source": [
    "# One-step function to generate the BG/NBD model:\n",
    "# Define function to generate table of actual and simulated counts of each visiting frequency, with input of dataframe CBS\n",
    "# and an arbitrary maximum lower bound of number of visits:\n",
    "\n",
    "def transform_cal_hold_to_freq_count(df):\n",
    "    return pd.DataFrame(df['frequency_cal'].value_counts().sort_index())\\\n",
    "                    .reset_index().rename(columns = {'index':'freq','frequency_cal':'count'})\n",
    "\n",
    "## Function to transform simulated data to dataframe with columns of 'freq' and 'count':\n",
    "def transform_sim_to_freq_count(df):\n",
    "    return pd.DataFrame(df['frequency'].value_counts().\\\n",
    "                        sort_index().reset_index().\\\n",
    "                        rename(columns = {'index': 'freq', 'frequency': 'count'}))\n",
    "\n",
    "## Function to bin frequencies for dataframe with columns named 'freq' and 'count':\n",
    "def binned_max_freq(df,max_x):\n",
    "    return df.loc[0:max_x].append({'freq':str(max_x) + '+',\\\n",
    "                                   'count':df[df.iloc[:,0] >= max_x].iloc[:,1].sum()},\\\n",
    "                                        ignore_index = True)\n",
    "\n",
    "## Function to get simulated visits and actual visits matrix based on estimated bg/nbd model parameters, with arbitrary input\n",
    "## maximum lower bound of number of visits\n",
    "\n",
    "def get_cal_actual_pred_matrix_bgnbd(df,x_max):\n",
    "    \n",
    "    bgf_model = bgf.fit(df['frequency_cal'], df['recency_cal'], df['T_cal'])\n",
    "    \n",
    "    simulated_bgnbd = bgf.generate_new_data(size = len(df))\n",
    "    \n",
    "    actual_cal_freq_bgnbd = transform_cal_hold_to_freq_count(df)\n",
    "    simulated_cal_freq_bgnbd = transform_sim_to_freq_count(simulated_bgnbd)\n",
    "    \n",
    "    actual_binned_bgnbd = binned_max_freq(actual_cal_freq_bgnbd, x_max)\n",
    "    simulated_binned_bgnbd = binned_max_freq(simulated_cal_freq_bgnbd, x_max)\n",
    "    \n",
    "    cal_actual_pred_bgnbd = actual_binned_bgnbd.merge(simulated_binned_bgnbd, how = 'outer', on = 'freq')\n",
    "    cal_actual_pred_bgnbd = cal_actual_pred_bgnbd.rename\\\n",
    "                 (columns ={'freq':'visits' ,'count_x':'actual_counts','count_y':\"simulated_counts\"})\n",
    "    cal_actual_pred_bgnbd['visits'] = cal_actual_pred_bgnbd['visits'].astype(str)\n",
    "    \n",
    "    \n",
    "    return cal_actual_pred_bgnbd\n",
    "\n",
    "CBS_BGNBD = CBS.copy()\n",
    "cal_actual_sim_bgnbd_alt = get_cal_actual_pred_matrix_bgnbd(CBS_BGNBD,40)\n",
    "cal_actual_sim_bgnbd_alt.head()"
   ]
  },
  {
   "cell_type": "code",
   "execution_count": 16,
   "metadata": {},
   "outputs": [
    {
     "data": {
      "text/plain": [
       "Text(0, 0.5, 'Number of Players')"
      ]
     },
     "execution_count": 16,
     "metadata": {},
     "output_type": "execute_result"
    },
    {
     "data": {
      "image/png": "[encoded data removed]",
      "text/plain": [
       "<Figure size 576x432 with 1 Axes>"
      ]
     },
     "metadata": {
      "needs_background": "light"
     },
     "output_type": "display_data"
    }
   ],
   "source": [
    "# Plot actual visits vs. simulated visits during calibration period under estimated bg/nbd model:\n",
    "\n",
    "%matplotlib inline\n",
    "bgnbd_actual_pred_cal_plot = cal_actual_sim_bgnbd.plot(kind = 'bar', figsize = (8,6))\n",
    "bgnbd_actual_pred_cal_plot.set_title('Count of Actual vs. Predicted No. of Visits in Calibration Period',\\\n",
    "                                      fontweight = \"bold\", pad = 20)\n",
    "bgnbd_actual_pred_cal_plot.legend(['Actual','Simulated'])\n",
    "bgnbd_actual_pred_cal_plot.set_xticklabels(cal_actual_sim_bgnbd['visits'])[0]\n",
    "bgnbd_actual_pred_cal_plot.set_xlabel('Number of Visits in Calibration')\n",
    "bgnbd_actual_pred_cal_plot.set_ylabel('Number of Players')"
   ]
  },
  {
   "cell_type": "markdown",
   "metadata": {},
   "source": [
    "    The plot above shows the simulation result of estimated model parameter in calibration period. \n",
    "    \n",
    "    We then will see how the model predicts the patron visits during holdout period. \n",
    "    \n",
    "    To plot holdout period fitness, we first need to generate predictions on number of visits each patron will make \n",
    "    in holdout period."
   ]
  },
  {
   "cell_type": "code",
   "execution_count": 17,
   "metadata": {},
   "outputs": [],
   "source": [
    "# Define function to generate data frame with actual frequency and predicted freqency at holdout period\n",
    "# from original individual-level calibration and holdout summary data (customer by sufficient statistics, or CBS):\n",
    "\n",
    "def generate_actual_pred_holdout_bgnbd(df):\n",
    "    \n",
    "    bgnbd_model = bgf.fit(df['frequency_cal'], df['recency_cal'], df['T_cal'])\n",
    "    \n",
    "    df['predict_holdout_bgnbd'] = bgnbd_model.predict(df['duration_holdout'],\\\n",
    "                                                      df['frequency_cal'],\\\n",
    "                                                      df['recency_cal'],\\\n",
    "                                                      df['T_cal'])\n",
    "    df = df.reset_index()\n",
    "    prediction = df.loc[:,['PlayerID','frequency_holdout','predict_holdout_bgnbd']]\n",
    "    prediction['predict_holdout_bgnbd'] = prediction['predict_holdout_bgnbd'].fillna(0)\n",
    "    prediction['predict_round_bgnbd'] = prediction['predict_holdout_bgnbd'].astype(int)\n",
    "    \n",
    "    return prediction"
   ]
  },
  {
   "cell_type": "markdown",
   "metadata": {},
   "source": [
    "    The following table (just showing first five rows) contains information of the predicted number of visits each patron \n",
    "    will make during holdout period.\n",
    "    \n",
    "    With this information, we further plot the fitness of the BG/NBD model in holdout period.\n",
    "    "
   ]
  },
  {
   "cell_type": "code",
   "execution_count": 19,
   "metadata": {},
   "outputs": [
    {
     "data": {
      "text/html": [
       "<div>\n",
       "<style scoped>\n",
       "    .dataframe tbody tr th:only-of-type {\n",
       "        vertical-align: middle;\n",
       "    }\n",
       "\n",
       "    .dataframe tbody tr th {\n",
       "        vertical-align: top;\n",
       "    }\n",
       "\n",
       "    .dataframe thead th {\n",
       "        text-align: right;\n",
       "    }\n",
       "</style>\n",
       "<table border=\"1\" class=\"dataframe\">\n",
       "  <thead>\n",
       "    <tr style=\"text-align: right;\">\n",
       "      <th></th>\n",
       "      <th>PlayerID</th>\n",
       "      <th>frequency_holdout</th>\n",
       "      <th>predict_holdout_bgnbd</th>\n",
       "      <th>predict_round_bgnbd</th>\n",
       "    </tr>\n",
       "  </thead>\n",
       "  <tbody>\n",
       "    <tr>\n",
       "      <th>0</th>\n",
       "      <td>100001</td>\n",
       "      <td>0.0</td>\n",
       "      <td>0.132173</td>\n",
       "      <td>0</td>\n",
       "    </tr>\n",
       "    <tr>\n",
       "      <th>1</th>\n",
       "      <td>100005</td>\n",
       "      <td>0.0</td>\n",
       "      <td>0.675793</td>\n",
       "      <td>0</td>\n",
       "    </tr>\n",
       "    <tr>\n",
       "      <th>2</th>\n",
       "      <td>100006</td>\n",
       "      <td>1.0</td>\n",
       "      <td>1.536230</td>\n",
       "      <td>1</td>\n",
       "    </tr>\n",
       "    <tr>\n",
       "      <th>3</th>\n",
       "      <td>100011</td>\n",
       "      <td>12.0</td>\n",
       "      <td>6.955938</td>\n",
       "      <td>6</td>\n",
       "    </tr>\n",
       "    <tr>\n",
       "      <th>4</th>\n",
       "      <td>100015</td>\n",
       "      <td>5.0</td>\n",
       "      <td>19.337787</td>\n",
       "      <td>19</td>\n",
       "    </tr>\n",
       "  </tbody>\n",
       "</table>\n",
       "</div>"
      ],
      "text/plain": [
       "   PlayerID  frequency_holdout  predict_holdout_bgnbd  predict_round_bgnbd\n",
       "0    100001                0.0               0.132173                    0\n",
       "1    100005                0.0               0.675793                    0\n",
       "2    100006                1.0               1.536230                    1\n",
       "3    100011               12.0               6.955938                    6\n",
       "4    100015                5.0              19.337787                   19"
      ]
     },
     "execution_count": 19,
     "metadata": {},
     "output_type": "execute_result"
    }
   ],
   "source": [
    "# Generate predicted number of visits for each player during holdout period under BG/NBD:\n",
    "\n",
    "predict_holdout_bgnbd = generate_actual_pred_holdout_bgnbd(CBS)\n",
    "predict_holdout_bgnbd.head()"
   ]
  },
  {
   "cell_type": "code",
   "execution_count": 20,
   "metadata": {},
   "outputs": [
    {
     "data": {
      "text/html": [
       "<div>\n",
       "<style scoped>\n",
       "    .dataframe tbody tr th:only-of-type {\n",
       "        vertical-align: middle;\n",
       "    }\n",
       "\n",
       "    .dataframe tbody tr th {\n",
       "        vertical-align: top;\n",
       "    }\n",
       "\n",
       "    .dataframe thead th {\n",
       "        text-align: right;\n",
       "    }\n",
       "</style>\n",
       "<table border=\"1\" class=\"dataframe\">\n",
       "  <thead>\n",
       "    <tr style=\"text-align: right;\">\n",
       "      <th></th>\n",
       "      <th>visits</th>\n",
       "      <th>actual_counts</th>\n",
       "      <th>predicted_counts</th>\n",
       "    </tr>\n",
       "  </thead>\n",
       "  <tbody>\n",
       "    <tr>\n",
       "      <th>0</th>\n",
       "      <td>0</td>\n",
       "      <td>77681</td>\n",
       "      <td>79086</td>\n",
       "    </tr>\n",
       "    <tr>\n",
       "      <th>1</th>\n",
       "      <td>1</td>\n",
       "      <td>15250</td>\n",
       "      <td>14113</td>\n",
       "    </tr>\n",
       "    <tr>\n",
       "      <th>2</th>\n",
       "      <td>2</td>\n",
       "      <td>8738</td>\n",
       "      <td>7952</td>\n",
       "    </tr>\n",
       "    <tr>\n",
       "      <th>3</th>\n",
       "      <td>3</td>\n",
       "      <td>5496</td>\n",
       "      <td>5594</td>\n",
       "    </tr>\n",
       "    <tr>\n",
       "      <th>4</th>\n",
       "      <td>4</td>\n",
       "      <td>3951</td>\n",
       "      <td>4120</td>\n",
       "    </tr>\n",
       "  </tbody>\n",
       "</table>\n",
       "</div>"
      ],
      "text/plain": [
       "  visits  actual_counts  predicted_counts\n",
       "0      0          77681             79086\n",
       "1      1          15250             14113\n",
       "2      2           8738              7952\n",
       "3      3           5496              5594\n",
       "4      4           3951              4120"
      ]
     },
     "execution_count": 20,
     "metadata": {},
     "output_type": "execute_result"
    }
   ],
   "source": [
    "# Generate table that counts the actual number and simulated number of patrons who made \n",
    "# 0, 1, 2, ..., 40+ repeat transactions during holdout period unde rBG/NBD Model:\n",
    "\n",
    "\n",
    "holdout_actual_bgnbd = pd.DataFrame(predict_holdout_bgnbd[\"frequency_holdout\"].value_counts().sort_index())\\\n",
    "                         .reset_index().rename(columns = {'index':'freq','frequency_holdout':'count'})\n",
    "holdout_predict_bgnbd = pd.DataFrame(predict_holdout_bgnbd[\"predict_round_bgnbd\"].value_counts().sort_index())\\\n",
    "                          .reset_index().rename(columns = {'index':'freq','predict_round_bgnbd':'count'})\n",
    "    \n",
    "hd_actual_bgnbd_binned = binned_max_freq(holdout_actual_bgnbd, 40)\n",
    "hd_predict_bgnbd_binned = binned_max_freq(holdout_predict_bgnbd, 40)\n",
    "    \n",
    "hold_actual_pred_bgnbd = hd_actual_bgnbd_binned.merge(hd_predict_bgnbd_binned, how = 'outer', on = 'freq')\n",
    "hold_actual_pred_bgnbd = hold_actual_pred_bgnbd.rename\\\n",
    "              (columns ={'freq':'visits' ,'count_x':'actual_counts','count_y':\"predicted_counts\"})\n",
    "\n",
    "hold_actual_pred_bgnbd.head()"
   ]
  },
  {
   "cell_type": "markdown",
   "metadata": {},
   "source": [
    "    The following chunk of code is a combination of the functions defined above. It takes input of customer-by-\n",
    "    sufficient-statistic matrix (CBS data frame) during calibration period, and an arbitrary maximum lower bound of number \n",
    "    of visits (for example, if we want to count the number of patrons who visited 40 times and above, then this maximum \n",
    "    number of visits is 40, and the output lower bound of maximum bin would be \"40+\"). This would output the same table \n",
    "    as the one above. "
   ]
  },
  {
   "cell_type": "code",
   "execution_count": 21,
   "metadata": {},
   "outputs": [
    {
     "data": {
      "text/html": [
       "<div>\n",
       "<style scoped>\n",
       "    .dataframe tbody tr th:only-of-type {\n",
       "        vertical-align: middle;\n",
       "    }\n",
       "\n",
       "    .dataframe tbody tr th {\n",
       "        vertical-align: top;\n",
       "    }\n",
       "\n",
       "    .dataframe thead th {\n",
       "        text-align: right;\n",
       "    }\n",
       "</style>\n",
       "<table border=\"1\" class=\"dataframe\">\n",
       "  <thead>\n",
       "    <tr style=\"text-align: right;\">\n",
       "      <th></th>\n",
       "      <th>visits</th>\n",
       "      <th>actual_counts</th>\n",
       "      <th>predicted_counts</th>\n",
       "    </tr>\n",
       "  </thead>\n",
       "  <tbody>\n",
       "    <tr>\n",
       "      <th>0</th>\n",
       "      <td>0</td>\n",
       "      <td>77681</td>\n",
       "      <td>79086</td>\n",
       "    </tr>\n",
       "    <tr>\n",
       "      <th>1</th>\n",
       "      <td>1</td>\n",
       "      <td>15250</td>\n",
       "      <td>14113</td>\n",
       "    </tr>\n",
       "    <tr>\n",
       "      <th>2</th>\n",
       "      <td>2</td>\n",
       "      <td>8738</td>\n",
       "      <td>7952</td>\n",
       "    </tr>\n",
       "    <tr>\n",
       "      <th>3</th>\n",
       "      <td>3</td>\n",
       "      <td>5496</td>\n",
       "      <td>5594</td>\n",
       "    </tr>\n",
       "    <tr>\n",
       "      <th>4</th>\n",
       "      <td>4</td>\n",
       "      <td>3951</td>\n",
       "      <td>4120</td>\n",
       "    </tr>\n",
       "  </tbody>\n",
       "</table>\n",
       "</div>"
      ],
      "text/plain": [
       "  visits  actual_counts  predicted_counts\n",
       "0      0          77681             79086\n",
       "1      1          15250             14113\n",
       "2      2           8738              7952\n",
       "3      3           5496              5594\n",
       "4      4           3951              4120"
      ]
     },
     "execution_count": 21,
     "metadata": {},
     "output_type": "execute_result"
    }
   ],
   "source": [
    "# One-step function for holdout period BG/NBD model:\n",
    "# Define function to generate table of actual and simulated counts of each visiting frequency, with input of dataframe CBS\n",
    "# and an arbitrary maximum lower bound of number of visits:\n",
    "\n",
    "def get_holdout_actual_pred_matrix_bgnbd(df, x_max):\n",
    "    \n",
    "    bgnbd_model = bgf.fit(df['frequency_cal'], df['recency_cal'], df['T_cal'])\n",
    "    df['predict_holdout_bgnbd'] = bgnbd_model.predict(df['duration_holdout'],\\\n",
    "                                                    df['frequency_cal'],\\\n",
    "                                                    df['recency_cal'],\\\n",
    "                                                    df['T_cal'])\n",
    "    df = df.reset_index()\n",
    "    \n",
    "    prediction = df.loc[:,['PlayerID','frequency_holdout','predict_holdout_bgnbd']]\n",
    "    prediction['predict_holdout_bgnbd'] = prediction['predict_holdout_bgnbd'].fillna(0)\n",
    "    prediction['predict_round_bgnbd'] = prediction['predict_holdout_bgnbd'].astype(int)\n",
    "    \n",
    "    holdout_actual_bgnbd = pd.DataFrame(prediction[\"frequency_holdout\"].value_counts().sort_index())\\\n",
    "                            .reset_index().rename(columns = {'index':'freq','frequency_holdout':'count'})\n",
    "    holdout_predict_bgnbd = pd.DataFrame(prediction[\"predict_round_bgnbd\"].value_counts().sort_index())\\\n",
    "                            .reset_index().rename(columns = {'index':'freq','predict_round_bgnbd':'count'})\n",
    "    \n",
    "    hd_actual_bgnbd_binned = binned_max_freq(holdout_actual_bgnbd,x_max)\n",
    "    hd_predict_bgnbd_binned = binned_max_freq(holdout_predict_bgnbd,x_max)\n",
    "    \n",
    "    hold_actual_pred_bgnbd = hd_actual_bgnbd_binned.merge(hd_predict_bgnbd_binned, how = 'outer', on = 'freq')\n",
    "    hold_actual_pred_bgnbd = hold_actual_pred_bgnbd.rename\\\n",
    "                  (columns ={'freq':'visits' ,'count_x':'actual_counts','count_y':\"predicted_counts\"})\n",
    "    \n",
    "    return hold_actual_pred_bgnbd\n",
    "\n",
    "hold_actual_pred_bgnbd_alt = get_holdout_actual_pred_matrix_bgnbd(CBS_BGNBD, 40)\n",
    "hold_actual_pred_bgnbd_alt.head()"
   ]
  },
  {
   "cell_type": "code",
   "execution_count": 21,
   "metadata": {},
   "outputs": [
    {
     "data": {
      "text/plain": [
       "Text(0, 0.5, 'Number of Players')"
      ]
     },
     "execution_count": 21,
     "metadata": {},
     "output_type": "execute_result"
    },
    {
     "data": {
      "image/png": "[encoded data removed]",
      "text/plain": [
       "<Figure size 576x432 with 1 Axes>"
      ]
     },
     "metadata": {
      "needs_background": "light"
     },
     "output_type": "display_data"
    }
   ],
   "source": [
    "# Plot actual visits vs. simulated visits during holdout period:\n",
    "\n",
    "%matplotlib inline\n",
    "bgnbd_actual_pred_hold_plot = hold_actual_pred_bgnbd.plot(kind = 'bar', figsize = (8,6))\n",
    "bgnbd_actual_pred_hold_plot.set_title('Count of Actual vs. Predicted No. of Visits in Holdout Period',\\\n",
    "                                      fontweight = \"bold\", pad = 20)\n",
    "bgnbd_actual_pred_hold_plot.legend(['Actual','Predicted'])\n",
    "bgnbd_actual_pred_hold_plot.set_xticklabels(hold_actual_pred_bgnbd['visits'])[0]\n",
    "bgnbd_actual_pred_hold_plot.set_xlabel('Number of Visits in Holdout')\n",
    "bgnbd_actual_pred_hold_plot.set_ylabel('Number of Players')"
   ]
  },
  {
   "cell_type": "markdown",
   "metadata": {},
   "source": [
    "    The plot above shows the simulation result of estimated BG/NBD model parameter in holdout period. \n",
    "    \n",
    "    We can see tha the prediction of number of patrons corresponding to each frequncy of visit is fairly good."
   ]
  },
  {
   "cell_type": "markdown",
   "metadata": {},
   "source": [
    "### Step 3: More visulizations under BG/NBD model"
   ]
  },
  {
   "cell_type": "markdown",
   "metadata": {},
   "source": [
    "#### Plot 1: Plotting the heterogeneity of visiting rates. \n",
    "    \n",
    "    This plot shows the distribution of visiting rates across patrons."
   ]
  },
  {
   "cell_type": "code",
   "execution_count": 23,
   "metadata": {},
   "outputs": [
    {
     "data": {
      "text/plain": [
       "(0, 24.679661803322222)"
      ]
     },
     "execution_count": 23,
     "metadata": {},
     "output_type": "execute_result"
    },
    {
     "data": {
      "image/png": "[encoded data removed]",
      "text/plain": [
       "<Figure size 576x576 with 1 Axes>"
      ]
     },
     "metadata": {
      "needs_background": "light"
     },
     "output_type": "display_data"
    }
   ],
   "source": [
    "# Plot transaction rate heterogeneity curve:\n",
    "\n",
    "%matplotlib inline\n",
    "\n",
    "import matplotlib.pyplot as plt\n",
    "import scipy\n",
    "from scipy import *\n",
    "\n",
    "r, alpha = bgnbd_model._unload_params(\"r\", \"alpha\")\n",
    "rate_mean = r / alpha\n",
    "rate_var = r / alpha ** 2\n",
    "rv = scipy.stats.gamma(r, scale=1 / alpha)\n",
    "lim = rv.ppf(0.99)\n",
    "x = np.linspace(0, lim, 100)\n",
    "\n",
    "fig, ax = plt.subplots(figsize = (8,8))\n",
    "fig.suptitle(\"Heterogeneity in Visiting Rate\", fontweight=\"bold\")\n",
    "fig.tight_layout(rect=[0, 0.05, 1, 0.9])\n",
    "plt.plot(x, rv.pdf(x))\n",
    "\n",
    "ax.set_title(\"mean: {:.3f}, var: {:.3f}\".format(rate_mean, rate_var))\n",
    "ax.set_xlabel('Visiting Rate')\n",
    "ax.set_ylabel('Density')\n",
    "ax.set_ylim(0,)"
   ]
  },
  {
   "cell_type": "code",
   "execution_count": 32,
   "metadata": {},
   "outputs": [
    {
     "data": {
      "text/plain": [
       "0.9503400308591311"
      ]
     },
     "execution_count": 32,
     "metadata": {},
     "output_type": "execute_result"
    }
   ],
   "source": [
    "rv.ppf(0.99)"
   ]
  },
  {
   "cell_type": "code",
   "execution_count": 25,
   "metadata": {},
   "outputs": [
    {
     "data": {
      "text/plain": [
       "[0.2821034146245154, 5.596323055075389]"
      ]
     },
     "execution_count": 25,
     "metadata": {},
     "output_type": "execute_result"
    }
   ],
   "source": [
    "bgnbd_model._unload_params(\"r\", \"alpha\")"
   ]
  },
  {
   "cell_type": "code",
   "execution_count": 26,
   "metadata": {},
   "outputs": [
    {
     "data": {
      "text/plain": [
       "<scipy.stats._distn_infrastructure.rv_frozen at 0x27c4e5b57f0>"
      ]
     },
     "execution_count": 26,
     "metadata": {},
     "output_type": "execute_result"
    }
   ],
   "source": [
    "scipy.stats.gamma(r, scale=1 / alpha)"
   ]
  },
  {
   "cell_type": "code",
   "execution_count": 28,
   "metadata": {},
   "outputs": [
    {
     "data": {
      "text/plain": [
       "3.9169534664690526"
      ]
     },
     "execution_count": 28,
     "metadata": {},
     "output_type": "execute_result"
    }
   ],
   "source": [
    "rv.ppf(0.99999999999)"
   ]
  },
  {
   "cell_type": "markdown",
   "metadata": {},
   "source": [
    "#### Plot 2: Plotting the heterogeneity of dropout rates. \n",
    "    \n",
    "    This plot shows the distribution of dropout rates across patrons."
   ]
  },
  {
   "cell_type": "code",
   "execution_count": 29,
   "metadata": {},
   "outputs": [
    {
     "data": {
      "text/plain": [
       "(0, 56.35835738952665)"
      ]
     },
     "execution_count": 29,
     "metadata": {},
     "output_type": "execute_result"
    },
    {
     "data": {
      "image/png": "[encoded data removed]",
      "text/plain": [
       "<Figure size 576x288 with 1 Axes>"
      ]
     },
     "metadata": {
      "needs_background": "light"
     },
     "output_type": "display_data"
    }
   ],
   "source": [
    "%matplotlib inline\n",
    "\n",
    "import matplotlib.pyplot as plt\n",
    "from scipy import *\n",
    "\n",
    "a, b = bgnbd_model._unload_params(\"a\", \"b\")\n",
    "beta_mean = a / (a + b)\n",
    "beta_var = a * b / ((a + b) ** 2) / (a + b + 1)\n",
    "\n",
    "rv = scipy.stats.beta(a, b)\n",
    "lim = rv.ppf(0.99)\n",
    "x = np.linspace(0, lim, 1000)\n",
    "\n",
    "fig, ax = plt.subplots(figsize = (8,4))\n",
    "fig.suptitle(\"Heterogeneity in Dropout Rate\", fontweight = \"bold\")\n",
    "fig.tight_layout(rect=[0, 0.05, 1, 0.9])\n",
    "plt.plot(x, rv.pdf(x))\n",
    "\n",
    "ax.set_title(\"mean: {:.3f}, var: {:.3f}\".format(beta_mean, beta_var))\n",
    "ax.set_xlabel('Dropout Rate')\n",
    "ax.set_ylabel('Density')\n",
    "ax.set_xlim(0,)\n",
    "ax.set_ylim(0,)"
   ]
  },
  {
   "cell_type": "code",
   "execution_count": 30,
   "metadata": {},
   "outputs": [
    {
     "data": {
      "text/plain": [
       "9.193246233085196e-17"
      ]
     },
     "execution_count": 30,
     "metadata": {},
     "output_type": "execute_result"
    }
   ],
   "source": [
    "scipy.stats.beta.ppf(0.01, a, b)"
   ]
  },
  {
   "cell_type": "code",
   "execution_count": 31,
   "metadata": {},
   "outputs": [
    {
     "data": {
      "text/plain": [
       "0.9503400308591311"
      ]
     },
     "execution_count": 31,
     "metadata": {},
     "output_type": "execute_result"
    }
   ],
   "source": [
    "scipy.stats.beta.ppf(0.99, a, b)"
   ]
  },
  {
   "cell_type": "code",
   "execution_count": 52,
   "metadata": {},
   "outputs": [
    {
     "data": {
      "text/plain": [
       "[0.12405072557952486, 0.8799848285300802]"
      ]
     },
     "execution_count": 52,
     "metadata": {},
     "output_type": "execute_result"
    }
   ],
   "source": [
    "bgnbd_model._unload_params(\"a\", \"b\")"
   ]
  },
  {
   "cell_type": "code",
   "execution_count": 110,
   "metadata": {},
   "outputs": [
    {
     "data": {
      "text/plain": [
       "[<matplotlib.lines.Line2D at 0x1a249ecba8>]"
      ]
     },
     "execution_count": 110,
     "metadata": {},
     "output_type": "execute_result"
    },
    {
     "data": {
      "image/png": "[encoded data removed]",
      "text/plain": [
       "<Figure size 432x288 with 1 Axes>"
      ]
     },
     "metadata": {},
     "output_type": "display_data"
    }
   ],
   "source": [
    "%matplotlib inline\n",
    "c = 2\n",
    "d = 2\n",
    "rv_1 = scipy.stats.beta(c, d)\n",
    "\n",
    "x_1 = np.linspace(scipy.stats.beta.ppf(0.01, c, d),\\\n",
    "                  scipy.stats.beta.ppf(0.99, c, d), 100)\n",
    "plt.plot(x_1, scipy.stats.beta.pdf(x_1, a, b))\n",
    "\n",
    "\n",
    "\n"
   ]
  },
  {
   "cell_type": "code",
   "execution_count": 93,
   "metadata": {},
   "outputs": [
    {
     "data": {
      "text/plain": [
       "0.10001107540260015"
      ]
     },
     "execution_count": 93,
     "metadata": {},
     "output_type": "execute_result"
    }
   ],
   "source": [
    "lim_1"
   ]
  },
  {
   "cell_type": "code",
   "execution_count": 59,
   "metadata": {},
   "outputs": [],
   "source": [
    "c=3"
   ]
  },
  {
   "cell_type": "code",
   "execution_count": null,
   "metadata": {},
   "outputs": [],
   "source": []
  },
  {
   "cell_type": "markdown",
   "metadata": {},
   "source": [
    "#### Plot 3: Plotting the expected number of visits\n",
    "\n",
    "    This plot shows the expected number of visits in future t units of time (day in this case) for a patron with a \n",
    "    given \"age\", based on this patron's frequency and recency. \n",
    "\n",
    "    A patron's age means the units of time (day in our case) since the first observed visit during calibration \n",
    "    period (beginning 01/01/2018) until the end of calibration period (12/31/2018). \n",
    "    \n",
    "    The following plot shows the expected number of purchases during holdout period (161 days, from 01/01/2019 to \n",
    "    06/10/2019), for a patron whose \"age\" is 300 days."
   ]
  },
  {
   "cell_type": "code",
   "execution_count": 24,
   "metadata": {},
   "outputs": [
    {
     "data": {
      "text/plain": [
       "<matplotlib.axes._subplots.AxesSubplot at 0x11434f6d8>"
      ]
     },
     "execution_count": 24,
     "metadata": {},
     "output_type": "execute_result"
    },
    {
     "data": {
      "image/png": "[encoded data removed]",
      "text/plain": [
       "<Figure size 576x288 with 2 Axes>"
      ]
     },
     "metadata": {},
     "output_type": "display_data"
    }
   ],
   "source": [
    "def plot_expected_future_visits_bgnbd(age, t):\n",
    "    \n",
    "    import matplotlib.pyplot as plt\n",
    "    \n",
    "    d = pd.DataFrame(np.zeros((age,age)))\n",
    "    \n",
    "    for i in range(age):\n",
    "        for j in range(i):\n",
    "            d.at[j,i] = bgf.predict(t, j, i, age)\n",
    "    \n",
    "    fig, ax = plt.subplots(figsize=(8,4))\n",
    "    exp_future_visits = sns.heatmap(d.T,cmap = 'YlGnBu', ax = ax)\n",
    "    exp_future_visits.set_title(\"Expected Number of Visits of a Patron with Age \" + str(age), \\\n",
    "                                fontweight = \"bold\", pad = 20)\n",
    "    exp_future_visits.set_xlabel(\"Patron's Historical Frquency\")\n",
    "    exp_future_visits.set_ylabel(\"Patron's Recency\")\n",
    "    \n",
    "    \n",
    "    return exp_future_visits\n",
    "\n",
    "plot_expected_future_visits_bgnbd(300,161)"
   ]
  },
  {
   "cell_type": "markdown",
   "metadata": {},
   "source": [
    "#### Plot 4: Plotting the conditional probability of alive\n",
    "    \n",
    "    This plot show the conditional probability that a patron of a given \"age\" is still \"alive\" (does not dropout) at \n",
    "    the end of the calibration period, based on this patron's frequency and recency.\n",
    "\n",
    "    A patron's age means the units of time (day in our case) since the first observed visit during calibration \n",
    "    period (beginning 01/01/2018) until the end of calibration period (12/31/2018). \n",
    "    \n",
    "    The following plot shows the probability of a patron whose \"age\" is 300 days being alive at the end of calibration\n",
    "    period, based on this patron's frequency and recency."
   ]
  },
  {
   "cell_type": "code",
   "execution_count": 25,
   "metadata": {},
   "outputs": [
    {
     "data": {
      "text/plain": [
       "<matplotlib.axes._subplots.AxesSubplot at 0x113c709e8>"
      ]
     },
     "execution_count": 25,
     "metadata": {},
     "output_type": "execute_result"
    },
    {
     "data": {
      "image/png": "[encoded data removed]",
      "text/plain": [
       "<Figure size 576x288 with 2 Axes>"
      ]
     },
     "metadata": {},
     "output_type": "display_data"
    }
   ],
   "source": [
    "def plot_probability_alive_bgnbd(age):\n",
    "    \n",
    "    import matplotlib.pyplot as plt\n",
    "    \n",
    "    d = pd.DataFrame(np.zeros((age,age)))\n",
    "    \n",
    "    for i in range(age):\n",
    "        for j in range(i):\n",
    "            d.at[j,i] = bgnbd_model.conditional_probability_alive(j, i, age)\n",
    "            \n",
    "    fig, ax = plt.subplots(figsize=(8,4))\n",
    "    prob_alive = sns.heatmap(d.T,cmap = 'YlGnBu', ax = ax)\n",
    "    prob_alive.set_title(\"Probability of Alive at End of Calibration for Patron with Age \" + str(age),\\\n",
    "                         fontweight = \"bold\", pad = 20)\n",
    "    prob_alive.set_xlabel(\"Patron's Historical Frquency\")\n",
    "    prob_alive.set_ylabel(\"Patron's Recency\")\n",
    "    \n",
    "    \n",
    "    return prob_alive\n",
    "\n",
    "plot_probability_alive_bgnbd(300)"
   ]
  },
  {
   "cell_type": "markdown",
   "metadata": {},
   "source": [
    "#### Plot 5: Ploting holdout period actual visits vs. predicted visits\n",
    "\n",
    "    This plot shows the corresponding average number of visits during holdout period for each actual number of visits \n",
    "    in calibration period.\n",
    "    \n",
    "    The blue line represents the actual average number of visits in holdout period.\n",
    "    \n",
    "    The orange line represents the predicted average number of visits in holdout period."
   ]
  },
  {
   "cell_type": "code",
   "execution_count": 26,
   "metadata": {},
   "outputs": [
    {
     "data": {
      "text/plain": [
       "<matplotlib.legend.Legend at 0x1142fedd8>"
      ]
     },
     "execution_count": 26,
     "metadata": {},
     "output_type": "execute_result"
    },
    {
     "data": {
      "image/png": "[encoded data removed]",
      "text/plain": [
       "<Figure size 576x288 with 1 Axes>"
      ]
     },
     "metadata": {},
     "output_type": "display_data"
    }
   ],
   "source": [
    "# Plot predicted average actual purchases in holdout period based on actual purchase in calibration under\n",
    "# BG/NBD model:\n",
    "\n",
    "%matplotlib inline\n",
    "bgnbd_avg_holdout = plot_calibration_purchases_vs_holdout_purchases(bgnbd_model, CBS, n = 20, figsize = (8,4))\n",
    "bgnbd_avg_holdout.set_title('Actual Visits in Holdout Period vs Predicted Visits',\\\n",
    "                            fontweight = \"bold\", pad = 20)\n",
    "bgnbd_avg_holdout.set_xlabel('Visits in Calibration Period')\n",
    "bgnbd_avg_holdout.set_ylabel('Average of Visits in Holdout Period')\n",
    "bgnbd_avg_holdout.legend(['Actual','Predicted'])"
   ]
  },
  {
   "cell_type": "markdown",
   "metadata": {},
   "source": [
    "## Part 3: Fitting a Pareto NBD (Pareto/NBD) Model \n",
    "    \n",
    "    The pareto/NBD model is very similar the same as BG/NBD model. \n",
    "    Both models are good at predicting number of repeat transactions.\n",
    "    The pareto/NBD model provides a similar fitting as the BG/NBD model."
   ]
  },
  {
   "cell_type": "markdown",
   "metadata": {},
   "source": [
    "### Step 1: Estimate Pareto/NBD Model parameters.¶"
   ]
  },
  {
   "cell_type": "code",
   "execution_count": 27,
   "metadata": {},
   "outputs": [
    {
     "data": {
      "text/plain": [
       "<lifetimes.ParetoNBDFitter: fitted with 137667 subjects, alpha: 9.30, beta: 1.49, r: 0.46, s: 0.10>"
      ]
     },
     "execution_count": 27,
     "metadata": {},
     "output_type": "execute_result"
    }
   ],
   "source": [
    "# Fitting Pareto/NBD Model:\n",
    "\n",
    "pareto_model = pnf.fit(CBS['frequency_cal'], CBS['recency_cal'], CBS['T_cal'])\n",
    "pareto_model"
   ]
  },
  {
   "cell_type": "markdown",
   "metadata": {},
   "source": [
    "### Step 2: Assessing BG/NBD model fitness.\n",
    "\n",
    "    Similar to what we did in BG/NBD model fitness assessment, we will first generate simulated data with estimated model\n",
    "    parameters for calibration period visits and see how the model fits.\n",
    "    \n",
    "    We will count the number of patrons who made repeated number of visits of 0, 1, 2, 3, ..., 40, 40+ times during \n",
    "    calibration period repectively, and compare the actual counts to the simulated counts. A bar plot will be used to \n",
    "    visulize the comparison. "
   ]
  },
  {
   "cell_type": "code",
   "execution_count": 28,
   "metadata": {},
   "outputs": [
    {
     "data": {
      "text/html": [
       "<div>\n",
       "<style scoped>\n",
       "    .dataframe tbody tr th:only-of-type {\n",
       "        vertical-align: middle;\n",
       "    }\n",
       "\n",
       "    .dataframe tbody tr th {\n",
       "        vertical-align: top;\n",
       "    }\n",
       "\n",
       "    .dataframe thead th {\n",
       "        text-align: right;\n",
       "    }\n",
       "</style>\n",
       "<table border=\"1\" class=\"dataframe\">\n",
       "  <thead>\n",
       "    <tr style=\"text-align: right;\">\n",
       "      <th></th>\n",
       "      <th>visits</th>\n",
       "      <th>actual_counts</th>\n",
       "      <th>simulated_counts</th>\n",
       "    </tr>\n",
       "  </thead>\n",
       "  <tbody>\n",
       "    <tr>\n",
       "      <th>0</th>\n",
       "      <td>0.0</td>\n",
       "      <td>53840</td>\n",
       "      <td>57071</td>\n",
       "    </tr>\n",
       "    <tr>\n",
       "      <th>1</th>\n",
       "      <td>1.0</td>\n",
       "      <td>19275</td>\n",
       "      <td>15634</td>\n",
       "    </tr>\n",
       "    <tr>\n",
       "      <th>2</th>\n",
       "      <td>2.0</td>\n",
       "      <td>10242</td>\n",
       "      <td>8873</td>\n",
       "    </tr>\n",
       "    <tr>\n",
       "      <th>3</th>\n",
       "      <td>3.0</td>\n",
       "      <td>6476</td>\n",
       "      <td>6284</td>\n",
       "    </tr>\n",
       "    <tr>\n",
       "      <th>4</th>\n",
       "      <td>4.0</td>\n",
       "      <td>4541</td>\n",
       "      <td>4953</td>\n",
       "    </tr>\n",
       "  </tbody>\n",
       "</table>\n",
       "</div>"
      ],
      "text/plain": [
       "  visits  actual_counts  simulated_counts\n",
       "0    0.0          53840             57071\n",
       "1    1.0          19275             15634\n",
       "2    2.0          10242              8873\n",
       "3    3.0           6476              6284\n",
       "4    4.0           4541              4953"
      ]
     },
     "execution_count": 28,
     "metadata": {},
     "output_type": "execute_result"
    }
   ],
   "source": [
    "# Simulate calibration visits based on estimated Pareto/NBD model parameters and count number of patrons at each \n",
    "# visit frequency:\n",
    "\n",
    "simulated_pnbd = pnf.generate_new_data(size = len(CBS))\n",
    "    \n",
    "actual_cal_freq_pnbd = transform_cal_hold_to_freq_count(CBS)\n",
    "simulated_cal_freq_pnbd = transform_sim_to_freq_count(simulated_pnbd)\n",
    "    \n",
    "actual_binned_pnbd = binned_max_freq(actual_cal_freq_pnbd, 40)\n",
    "simulated_binned_pnbd = binned_max_freq(simulated_cal_freq_pnbd, 40)\n",
    "    \n",
    "cal_actual_pred_pnbd = actual_binned_pnbd.merge(simulated_binned_pnbd, how = 'outer', on = 'freq')\n",
    "cal_actual_pred_pnbd = cal_actual_pred_pnbd.rename\\\n",
    "            (columns ={'freq':'visits' ,'count_x':'actual_counts','count_y':\"simulated_counts\"})\n",
    "cal_actual_pred_pnbd['visits'] = cal_actual_pred_pnbd['visits'].astype(str)\n",
    "\n",
    "cal_actual_pred_pnbd.head()"
   ]
  },
  {
   "cell_type": "code",
   "execution_count": 29,
   "metadata": {},
   "outputs": [
    {
     "data": {
      "text/plain": [
       "Text(0,0.5,'Number of Players')"
      ]
     },
     "execution_count": 29,
     "metadata": {},
     "output_type": "execute_result"
    },
    {
     "data": {
      "image/png": "[encoded data removed]",
      "text/plain": [
       "<Figure size 576x432 with 1 Axes>"
      ]
     },
     "metadata": {},
     "output_type": "display_data"
    }
   ],
   "source": [
    "# Plot actual visits vs. simulated visits during calibration period under Pareto/NBD model:\n",
    "\n",
    "%matplotlib inline\n",
    "pnbd_actual_pred_cal_plot = cal_actual_pred_pnbd.plot(kind = 'bar', figsize = (8,6))\n",
    "pnbd_actual_pred_cal_plot.set_title('Count of Actual vs. Predicted No. of Visits in Calibration Period',\\\n",
    "                                      fontweight = \"bold\", pad = 20)\n",
    "pnbd_actual_pred_cal_plot.legend(['Actual','Simulated'])\n",
    "pnbd_actual_pred_cal_plot.set_xticklabels(cal_actual_pred_pnbd['visits'])[0]\n",
    "pnbd_actual_pred_cal_plot.set_xlabel('Number of Visits in Calibration')\n",
    "pnbd_actual_pred_cal_plot.set_ylabel('Number of Players')"
   ]
  },
  {
   "cell_type": "markdown",
   "metadata": {},
   "source": [
    "    The plot above shows the simulation result of estimated Pareto/NBD model parameter in calibration period. \n",
    "    We can see tha the calibration period fitting under Pareto/NBD model is similar to the fitting under BG/NBD model.\n",
    "    \n",
    "    As we did in BG/NBD model fitting assessment, we will see how the Pareto/NBD model fits the data in holdout period.\n",
    "    We will generate a bar plot that visulizes comparison of the actual number of patrons who visited the casino 1,2,3,...,\n",
    "    40,40+ times during holdout period."
   ]
  },
  {
   "cell_type": "code",
   "execution_count": 30,
   "metadata": {},
   "outputs": [
    {
     "data": {
      "text/html": [
       "<div>\n",
       "<style scoped>\n",
       "    .dataframe tbody tr th:only-of-type {\n",
       "        vertical-align: middle;\n",
       "    }\n",
       "\n",
       "    .dataframe tbody tr th {\n",
       "        vertical-align: top;\n",
       "    }\n",
       "\n",
       "    .dataframe thead th {\n",
       "        text-align: right;\n",
       "    }\n",
       "</style>\n",
       "<table border=\"1\" class=\"dataframe\">\n",
       "  <thead>\n",
       "    <tr style=\"text-align: right;\">\n",
       "      <th></th>\n",
       "      <th>visits</th>\n",
       "      <th>actual_counts</th>\n",
       "      <th>predicted_counts</th>\n",
       "    </tr>\n",
       "  </thead>\n",
       "  <tbody>\n",
       "    <tr>\n",
       "      <th>0</th>\n",
       "      <td>0</td>\n",
       "      <td>77681</td>\n",
       "      <td>75739</td>\n",
       "    </tr>\n",
       "    <tr>\n",
       "      <th>1</th>\n",
       "      <td>1</td>\n",
       "      <td>15250</td>\n",
       "      <td>15352</td>\n",
       "    </tr>\n",
       "    <tr>\n",
       "      <th>2</th>\n",
       "      <td>2</td>\n",
       "      <td>8738</td>\n",
       "      <td>8476</td>\n",
       "    </tr>\n",
       "    <tr>\n",
       "      <th>3</th>\n",
       "      <td>3</td>\n",
       "      <td>5496</td>\n",
       "      <td>5850</td>\n",
       "    </tr>\n",
       "    <tr>\n",
       "      <th>4</th>\n",
       "      <td>4</td>\n",
       "      <td>3951</td>\n",
       "      <td>4730</td>\n",
       "    </tr>\n",
       "  </tbody>\n",
       "</table>\n",
       "</div>"
      ],
      "text/plain": [
       "  visits  actual_counts  predicted_counts\n",
       "0      0          77681             75739\n",
       "1      1          15250             15352\n",
       "2      2           8738              8476\n",
       "3      3           5496              5850\n",
       "4      4           3951              4730"
      ]
     },
     "execution_count": 30,
     "metadata": {},
     "output_type": "execute_result"
    }
   ],
   "source": [
    "# Generate table that counts the actual number and simulated number of patrons who made \n",
    "# 0, 1, 2, ..., 40+ repeat transactions during holdout period under Pareto/NBD model:\n",
    "\n",
    "CBS_PNBD = CBS.copy()\n",
    "CBS_PNBD['predict_holdout_pnbd'] = pareto_model.predict(CBS_PNBD['duration_holdout'],\\\n",
    "                                                        CBS_PNBD['frequency_cal'],\\\n",
    "                                                        CBS_PNBD['recency_cal'],\\\n",
    "                                                        CBS_PNBD['T_cal'])\n",
    "\n",
    "pareto_prediction = CBS_PNBD.loc[:,['PlayerID','frequency_holdout','predict_holdout_pnbd']]\n",
    "pareto_prediction['predict_holdout_pnbd'] = pareto_prediction['predict_holdout_pnbd'].fillna(0)\n",
    "pareto_prediction['predict_round_pnbd'] = pareto_prediction['predict_holdout_pnbd'].astype(int)\n",
    "    \n",
    "holdout_actual_pnbd = pd.DataFrame(pareto_prediction[\"frequency_holdout\"].value_counts().sort_index())\\\n",
    "                        .reset_index().rename(columns = {'index':'freq','frequency_holdout':'count'})\n",
    "holdout_predict_pnbd = pd.DataFrame(pareto_prediction[\"predict_round_pnbd\"].value_counts().sort_index())\\\n",
    "                        .reset_index().rename(columns = {'index':'freq','predict_round_pnbd':'count'})\n",
    "    \n",
    "hd_actual_pnbd_binned = binned_max_freq(holdout_actual_pnbd, 40)\n",
    "hd_predict_pnbd_binned = binned_max_freq(holdout_predict_pnbd, 40)\n",
    "    \n",
    "hold_actual_pred_pnbd = hd_actual_pnbd_binned.merge(hd_predict_pnbd_binned, how = 'outer', on = 'freq')\n",
    "hold_actual_pred_pnbd = hold_actual_pred_pnbd.rename\\\n",
    "             (columns ={'freq':'visits' ,'count_x':'actual_counts','count_y':\"predicted_counts\"})\n",
    "\n",
    "hold_actual_pred_pnbd.head()"
   ]
  },
  {
   "cell_type": "code",
   "execution_count": 31,
   "metadata": {},
   "outputs": [
    {
     "data": {
      "text/plain": [
       "Text(0,0.5,'Number of Players')"
      ]
     },
     "execution_count": 31,
     "metadata": {},
     "output_type": "execute_result"
    },
    {
     "data": {
      "image/png": "[encoded data removed]",
      "text/plain": [
       "<Figure size 576x432 with 1 Axes>"
      ]
     },
     "metadata": {},
     "output_type": "display_data"
    }
   ],
   "source": [
    "# Plot actual visits vs. simulated visits during holdout period under Pareto/NBD model:\n",
    "\n",
    "%matplotlib inline\n",
    "pnbd_actual_pred_hold_plot = hold_actual_pred_pnbd.plot(kind = 'bar', figsize = (8,6))\n",
    "pnbd_actual_pred_hold_plot.set_title('Count of Actual vs. Predicted No. of Visits in Holdout Period',\\\n",
    "                                      fontweight = \"bold\", pad = 20)\n",
    "pnbd_actual_pred_hold_plot.legend(['Actual','Predicted'])\n",
    "pnbd_actual_pred_hold_plot.set_xticklabels(hold_actual_pred_pnbd['visits'])[0]\n",
    "pnbd_actual_pred_hold_plot.set_xlabel('Number of Visits in Holdout')\n",
    "pnbd_actual_pred_hold_plot.set_ylabel('Number of Players')"
   ]
  },
  {
   "cell_type": "markdown",
   "metadata": {},
   "source": [
    "    The plot above shows the simulation result of estimated Pareto/NBD model parameter in holdout period. \n",
    "    \n",
    "    We can see tha the prediction of number of patrons corresponding to each frequncy of visit is fairly good."
   ]
  },
  {
   "cell_type": "markdown",
   "metadata": {},
   "source": [
    "### Step 3: More visulizations under Pareto/NBD model\n",
    "\n",
    "#### A series of visulization is generated under Pareto/NBD model. These visulizations are very similar to the ones generated under BG/NBD model."
   ]
  },
  {
   "cell_type": "markdown",
   "metadata": {},
   "source": [
    "#### Plot 1: Plotting the expected number of visits\n",
    "    \n",
    "    This plot shows the expected number of visits in future t units of time (day in this case) for a patron with a \n",
    "    given \"age\", based on this patron's frequency and recency. \n",
    "\n",
    "    A patron's age means the units of time (day in our case) since the first observed visit during calibration \n",
    "    period (beginning 01/01/2018) until the end of calibration period (12/31/2018). \n",
    "    \n",
    "    The following plot shows the expected number of purchases during holdout period (161 days, from 01/01/2019 to \n",
    "    06/10/2019), for a patron whose \"age\" is 300 days.\n",
    "    \n",
    "    The actual plot under Pareto/NBD model is similar to the plot under BG/NBD model."
   ]
  },
  {
   "cell_type": "code",
   "execution_count": 32,
   "metadata": {},
   "outputs": [
    {
     "data": {
      "text/plain": [
       "<matplotlib.axes._subplots.AxesSubplot at 0x1136795c0>"
      ]
     },
     "execution_count": 32,
     "metadata": {},
     "output_type": "execute_result"
    },
    {
     "data": {
      "image/png": "[encoded data removed]",
      "text/plain": [
       "<Figure size 576x288 with 2 Axes>"
      ]
     },
     "metadata": {},
     "output_type": "display_data"
    }
   ],
   "source": [
    "def plot_expected_future_visits_pareto(age, t):\n",
    "    \n",
    "    import matplotlib.pyplot as plt\n",
    "    \n",
    "    d = pd.DataFrame(np.zeros((age,age)))\n",
    "    \n",
    "    for i in range(age):\n",
    "        for j in range(i):\n",
    "            d.at[j,i] = pnf.predict(t, j, i, age)\n",
    "    \n",
    "    fig, ax = plt.subplots(figsize=(8,4))\n",
    "    exp_future_visits = sns.heatmap(d.T,cmap = 'YlGnBu', ax = ax)\n",
    "    exp_future_visits.set_title(\"Expected Number of Visits of a Patron with Age \" + str(age),\\\n",
    "                                fontweight = \"bold\", pad = 20)\n",
    "    exp_future_visits.set_xlabel(\"Patron's Historical Frquency\")\n",
    "    exp_future_visits.set_ylabel(\"Patron's Recency\")\n",
    "    \n",
    "    \n",
    "    return exp_future_visits\n",
    "\n",
    "plot_expected_future_visits_pareto(300,161)"
   ]
  },
  {
   "cell_type": "markdown",
   "metadata": {},
   "source": [
    "#### Plot 2: Plotting the conditional probability of alive\n",
    "\n",
    "    This plot show the conditional probability that a patron of a given \"age\" is still \"alive\" (does not dropout) at \n",
    "    the end of the calibration period, based on this patron's frequency and recency.\n",
    "\n",
    "    A patron's age means the units of time (day in our case) since the first observed visit during calibration \n",
    "    period (beginning 01/01/2018) until the end of calibration period (12/31/2018). \n",
    "\n",
    "    The following plot shows the probability of a patron whose \"age\" is 300 days being alive at the end of calibration\n",
    "    period, based on this patron's frequency and recency.\n",
    "    \n",
    "    The actual plot under Pareto/NBD model is similar to the plot under BG/NBD model."
   ]
  },
  {
   "cell_type": "code",
   "execution_count": 33,
   "metadata": {},
   "outputs": [
    {
     "data": {
      "text/plain": [
       "<matplotlib.axes._subplots.AxesSubplot at 0x1a2b0f6c88>"
      ]
     },
     "execution_count": 33,
     "metadata": {},
     "output_type": "execute_result"
    },
    {
     "data": {
      "image/png": "[encoded data removed]",
      "text/plain": [
       "<Figure size 576x288 with 2 Axes>"
      ]
     },
     "metadata": {},
     "output_type": "display_data"
    }
   ],
   "source": [
    "def plot_probability_alive_pnbd(age):\n",
    "    \n",
    "    import matplotlib.pyplot as plt\n",
    "    \n",
    "    d = pd.DataFrame(np.zeros((age,age)))\n",
    "    \n",
    "    for i in range(age):\n",
    "        for j in range(i):\n",
    "            d.at[j,i] = bgnbd_model.conditional_probability_alive(j, i, age)\n",
    "            \n",
    "    fig, ax = plt.subplots(figsize=(8,4))\n",
    "    prob_alive = sns.heatmap(d.T,cmap = 'YlGnBu', ax = ax)\n",
    "    prob_alive.set_title(\"Probability of Alive at End of Calibration for Patron with Age \" + str(age),\\\n",
    "                         fontweight = \"bold\", pad = 20)\n",
    "    prob_alive.set_xlabel(\"Patron's Historical Frquency\")\n",
    "    prob_alive.set_ylabel(\"Patron's Recency\")\n",
    "    \n",
    "    \n",
    "    return prob_alive\n",
    "\n",
    "plot_probability_alive_pnbd(300)"
   ]
  },
  {
   "cell_type": "markdown",
   "metadata": {},
   "source": [
    "#### Plot 3: Ploting holdout period actual visits vs. predicted visits\n",
    "\n",
    "    This plot shows the corresponding average number of visits during holdout period for each actual number of visits \n",
    "    in calibration period.\n",
    "    \n",
    "    The blue line represents the actual average number of visits in holdout period.\n",
    "    \n",
    "    The orange line represents the predicted average number of visits in holdout period.\n",
    "    \n",
    "    The actual plot under Pareto/NBD model is similar to the plot under BG/NBD model."
   ]
  },
  {
   "cell_type": "code",
   "execution_count": 34,
   "metadata": {},
   "outputs": [
    {
     "data": {
      "text/plain": [
       "<matplotlib.legend.Legend at 0x1192acda0>"
      ]
     },
     "execution_count": 34,
     "metadata": {},
     "output_type": "execute_result"
    },
    {
     "data": {
      "image/png": "[encoded data removed]",
      "text/plain": [
       "<Figure size 576x288 with 1 Axes>"
      ]
     },
     "metadata": {},
     "output_type": "display_data"
    }
   ],
   "source": [
    "# Plot predicted average actual purchases in holdout period based on actual purchase in calibration under\n",
    "# Pareto/NBD model:\n",
    "\n",
    "%matplotlib inline\n",
    "\n",
    "pnbd_avg_holdout = plot_calibration_purchases_vs_holdout_purchases(pareto_model, CBS, n = 20, figsize = (8, 4))\n",
    "pnbd_avg_holdout.set_title('Actual Visits in Holdout Period vs Predicted Visits', fontweight = \"bold\", pad = 20)\n",
    "pnbd_avg_holdout.set_xlabel('Visits in Calibration Period')\n",
    "pnbd_avg_holdout.set_ylabel('Average of Visits in Holdout Period')\n",
    "pnbd_avg_holdout.legend(['Actual','Predicted'])"
   ]
  },
  {
   "cell_type": "code",
   "execution_count": null,
   "metadata": {},
   "outputs": [],
   "source": []
  }
 ],
 "metadata": {
  "kernelspec": {
   "display_name": "Python 3",
   "language": "python",
   "name": "python3"
  },
  "language_info": {
   "codemirror_mode": {
    "name": "ipython",
    "version": 3
   },
   "file_extension": ".py",
   "mimetype": "text/x-python",
   "name": "python",
   "nbconvert_exporter": "python",
   "pygments_lexer": "ipython3",
   "version": "3.7.3"
  }
 },
 "nbformat": 4,
 "nbformat_minor": 2
}
