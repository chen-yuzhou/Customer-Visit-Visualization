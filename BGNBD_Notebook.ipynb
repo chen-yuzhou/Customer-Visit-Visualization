{
 "cells": [
  {
   "cell_type": "code",
   "execution_count": 1,
   "metadata": {},
   "outputs": [],
   "source": [
    "import pandas as pd\n",
    "import numpy as np\n",
    "import seaborn as sns"
   ]
  },
  {
   "cell_type": "code",
   "execution_count": 16,
   "metadata": {},
   "outputs": [
    {
     "data": {
      "text/html": [
       "<div>\n",
       "<style scoped>\n",
       "    .dataframe tbody tr th:only-of-type {\n",
       "        vertical-align: middle;\n",
       "    }\n",
       "\n",
       "    .dataframe tbody tr th {\n",
       "        vertical-align: top;\n",
       "    }\n",
       "\n",
       "    .dataframe thead th {\n",
       "        text-align: right;\n",
       "    }\n",
       "</style>\n",
       "<table border=\"1\" class=\"dataframe\">\n",
       "  <thead>\n",
       "    <tr style=\"text-align: right;\">\n",
       "      <th></th>\n",
       "      <th>Unnamed: 0</th>\n",
       "      <th>CustID</th>\n",
       "      <th>TransDate</th>\n",
       "    </tr>\n",
       "  </thead>\n",
       "  <tbody>\n",
       "    <tr>\n",
       "      <th>0</th>\n",
       "      <td>0</td>\n",
       "      <td>100033</td>\n",
       "      <td>2018-01-01</td>\n",
       "    </tr>\n",
       "    <tr>\n",
       "      <th>1</th>\n",
       "      <td>1</td>\n",
       "      <td>100038</td>\n",
       "      <td>2018-01-01</td>\n",
       "    </tr>\n",
       "    <tr>\n",
       "      <th>2</th>\n",
       "      <td>2</td>\n",
       "      <td>100084</td>\n",
       "      <td>2018-01-01</td>\n",
       "    </tr>\n",
       "    <tr>\n",
       "      <th>3</th>\n",
       "      <td>3</td>\n",
       "      <td>100101</td>\n",
       "      <td>2018-01-01</td>\n",
       "    </tr>\n",
       "    <tr>\n",
       "      <th>4</th>\n",
       "      <td>4</td>\n",
       "      <td>100107</td>\n",
       "      <td>2018-01-01</td>\n",
       "    </tr>\n",
       "  </tbody>\n",
       "</table>\n",
       "</div>"
      ],
      "text/plain": [
       "   Unnamed: 0  CustID   TransDate\n",
       "0           0  100033  2018-01-01\n",
       "1           1  100038  2018-01-01\n",
       "2           2  100084  2018-01-01\n",
       "3           3  100101  2018-01-01\n",
       "4           4  100107  2018-01-01"
      ]
     },
     "execution_count": 16,
     "metadata": {},
     "output_type": "execute_result"
    }
   ],
   "source": [
    "# Read in data:\n",
    "\n",
    "trans = pd.read_csv('Cust Transactions.csv')\n",
    "trans.head()"
   ]
  },
  {
   "cell_type": "code",
   "execution_count": 17,
   "metadata": {},
   "outputs": [
    {
     "data": {
      "text/html": [
       "<div>\n",
       "<style scoped>\n",
       "    .dataframe tbody tr th:only-of-type {\n",
       "        vertical-align: middle;\n",
       "    }\n",
       "\n",
       "    .dataframe tbody tr th {\n",
       "        vertical-align: top;\n",
       "    }\n",
       "\n",
       "    .dataframe thead th {\n",
       "        text-align: right;\n",
       "    }\n",
       "</style>\n",
       "<table border=\"1\" class=\"dataframe\">\n",
       "  <thead>\n",
       "    <tr style=\"text-align: right;\">\n",
       "      <th></th>\n",
       "      <th>CustID</th>\n",
       "      <th>TransDate</th>\n",
       "    </tr>\n",
       "  </thead>\n",
       "  <tbody>\n",
       "    <tr>\n",
       "      <th>0</th>\n",
       "      <td>100033</td>\n",
       "      <td>2018-01-01</td>\n",
       "    </tr>\n",
       "    <tr>\n",
       "      <th>1</th>\n",
       "      <td>100033</td>\n",
       "      <td>2018-01-04</td>\n",
       "    </tr>\n",
       "    <tr>\n",
       "      <th>2</th>\n",
       "      <td>100033</td>\n",
       "      <td>2018-01-07</td>\n",
       "    </tr>\n",
       "    <tr>\n",
       "      <th>3</th>\n",
       "      <td>100033</td>\n",
       "      <td>2018-01-10</td>\n",
       "    </tr>\n",
       "    <tr>\n",
       "      <th>4</th>\n",
       "      <td>100033</td>\n",
       "      <td>2018-01-11</td>\n",
       "    </tr>\n",
       "  </tbody>\n",
       "</table>\n",
       "</div>"
      ],
      "text/plain": [
       "   CustID   TransDate\n",
       "0  100033  2018-01-01\n",
       "1  100033  2018-01-04\n",
       "2  100033  2018-01-07\n",
       "3  100033  2018-01-10\n",
       "4  100033  2018-01-11"
      ]
     },
     "execution_count": 17,
     "metadata": {},
     "output_type": "execute_result"
    }
   ],
   "source": [
    "# Group same-day transactions for each customer and get the date of first transaction of each customer:\n",
    "# Remove the first column:\n",
    "\n",
    "first_trans = trans.groupby(by = 'CustID')['TransDate'].min()\\\n",
    "                    .reset_index()\\\n",
    "                    .rename(columns = {'TransDate':'FirstTrans'})\n",
    "cust_trans = trans.merge(first_trans, on = 'CustID')[['CustID', 'TransDate']]\n",
    "cust_trans.head()"
   ]
  },
  {
   "cell_type": "code",
   "execution_count": 19,
   "metadata": {},
   "outputs": [
    {
     "data": {
      "text/html": [
       "<div>\n",
       "<style scoped>\n",
       "    .dataframe tbody tr th:only-of-type {\n",
       "        vertical-align: middle;\n",
       "    }\n",
       "\n",
       "    .dataframe tbody tr th {\n",
       "        vertical-align: top;\n",
       "    }\n",
       "\n",
       "    .dataframe thead th {\n",
       "        text-align: right;\n",
       "    }\n",
       "</style>\n",
       "<table border=\"1\" class=\"dataframe\">\n",
       "  <thead>\n",
       "    <tr style=\"text-align: right;\">\n",
       "      <th></th>\n",
       "      <th>CustID</th>\n",
       "      <th>frequency_cal</th>\n",
       "      <th>recency_cal</th>\n",
       "      <th>T_cal</th>\n",
       "      <th>frequency_holdout</th>\n",
       "      <th>duration_holdout</th>\n",
       "      <th>FirstTrans</th>\n",
       "    </tr>\n",
       "  </thead>\n",
       "  <tbody>\n",
       "    <tr>\n",
       "      <th>0</th>\n",
       "      <td>100001</td>\n",
       "      <td>0.0</td>\n",
       "      <td>0.0</td>\n",
       "      <td>327.0</td>\n",
       "      <td>0.0</td>\n",
       "      <td>161</td>\n",
       "      <td>2018-02-07</td>\n",
       "    </tr>\n",
       "    <tr>\n",
       "      <th>1</th>\n",
       "      <td>100005</td>\n",
       "      <td>1.0</td>\n",
       "      <td>72.0</td>\n",
       "      <td>193.0</td>\n",
       "      <td>0.0</td>\n",
       "      <td>161</td>\n",
       "      <td>2018-06-21</td>\n",
       "    </tr>\n",
       "    <tr>\n",
       "      <th>2</th>\n",
       "      <td>100006</td>\n",
       "      <td>4.0</td>\n",
       "      <td>133.0</td>\n",
       "      <td>268.0</td>\n",
       "      <td>1.0</td>\n",
       "      <td>161</td>\n",
       "      <td>2018-04-07</td>\n",
       "    </tr>\n",
       "    <tr>\n",
       "      <th>3</th>\n",
       "      <td>100011</td>\n",
       "      <td>15.0</td>\n",
       "      <td>334.0</td>\n",
       "      <td>336.0</td>\n",
       "      <td>12.0</td>\n",
       "      <td>161</td>\n",
       "      <td>2018-01-29</td>\n",
       "    </tr>\n",
       "    <tr>\n",
       "      <th>4</th>\n",
       "      <td>100015</td>\n",
       "      <td>45.0</td>\n",
       "      <td>358.0</td>\n",
       "      <td>361.0</td>\n",
       "      <td>5.0</td>\n",
       "      <td>161</td>\n",
       "      <td>2018-01-04</td>\n",
       "    </tr>\n",
       "  </tbody>\n",
       "</table>\n",
       "</div>"
      ],
      "text/plain": [
       "   CustID  frequency_cal  recency_cal  T_cal  frequency_holdout  \\\n",
       "0  100001            0.0          0.0  327.0                0.0   \n",
       "1  100005            1.0         72.0  193.0                0.0   \n",
       "2  100006            4.0        133.0  268.0                1.0   \n",
       "3  100011           15.0        334.0  336.0               12.0   \n",
       "4  100015           45.0        358.0  361.0                5.0   \n",
       "\n",
       "   duration_holdout  FirstTrans  \n",
       "0               161  2018-02-07  \n",
       "1               161  2018-06-21  \n",
       "2               161  2018-04-07  \n",
       "3               161  2018-01-29  \n",
       "4               161  2018-01-04  "
      ]
     },
     "execution_count": 19,
     "metadata": {},
     "output_type": "execute_result"
    }
   ],
   "source": [
    "# Transform customer transaction records to individual-level calibration and holdout summary data.\n",
    "# (This is called CBS matrix: Customer-by-Sufficient-Statistic matrix):\n",
    "\n",
    "from lifetimes.utils import calibration_and_holdout_data\n",
    "CBS = calibration_and_holdout_data(cust_trans,\\\n",
    "                                   'CustID', 'TransDate', \\\n",
    "                                    calibration_period_end='2018-12-31', \\\n",
    "                                    observation_period_end='2019-06-10' ).reset_index()\n",
    "\n",
    "CBS = CBS.merge(first_trans, on = 'CustID')\n",
    "CBS.head()"
   ]
  },
  {
   "cell_type": "code",
   "execution_count": 20,
   "metadata": {},
   "outputs": [],
   "source": [
    "# Import packages for model fitting:\n",
    "\n",
    "from lifetimes.utils import *\n",
    "from lifetimes import BetaGeoFitter\n",
    "from lifetimes import ParetoNBDFitter\n",
    "from lifetimes.plotting import *\n",
    "\n",
    "bgf = BetaGeoFitter()\n",
    "pnf = ParetoNBDFitter()"
   ]
  },
  {
   "cell_type": "code",
   "execution_count": 21,
   "metadata": {},
   "outputs": [
    {
     "data": {
      "text/plain": [
       "<lifetimes.BetaGeoFitter: fitted with 137667 subjects, a: 0.12, alpha: 5.60, b: 0.88, r: 0.28>"
      ]
     },
     "execution_count": 21,
     "metadata": {},
     "output_type": "execute_result"
    }
   ],
   "source": [
    "bgnbd_model = bgf.fit(CBS['frequency_cal'], CBS['recency_cal'], CBS['T_cal'])\n",
    "bgnbd_model"
   ]
  },
  {
   "cell_type": "code",
   "execution_count": 22,
   "metadata": {},
   "outputs": [
    {
     "data": {
      "text/html": [
       "<div>\n",
       "<style scoped>\n",
       "    .dataframe tbody tr th:only-of-type {\n",
       "        vertical-align: middle;\n",
       "    }\n",
       "\n",
       "    .dataframe tbody tr th {\n",
       "        vertical-align: top;\n",
       "    }\n",
       "\n",
       "    .dataframe thead th {\n",
       "        text-align: right;\n",
       "    }\n",
       "</style>\n",
       "<table border=\"1\" class=\"dataframe\">\n",
       "  <thead>\n",
       "    <tr style=\"text-align: right;\">\n",
       "      <th></th>\n",
       "      <th>frequency</th>\n",
       "      <th>recency</th>\n",
       "      <th>T</th>\n",
       "      <th>lambda</th>\n",
       "      <th>p</th>\n",
       "      <th>alive</th>\n",
       "    </tr>\n",
       "    <tr>\n",
       "      <th>customer_id</th>\n",
       "      <th></th>\n",
       "      <th></th>\n",
       "      <th></th>\n",
       "      <th></th>\n",
       "      <th></th>\n",
       "      <th></th>\n",
       "    </tr>\n",
       "  </thead>\n",
       "  <tbody>\n",
       "    <tr>\n",
       "      <th>0.0</th>\n",
       "      <td>0.0</td>\n",
       "      <td>0.000000</td>\n",
       "      <td>327.0</td>\n",
       "      <td>0.006389</td>\n",
       "      <td>0.002465</td>\n",
       "      <td>1.0</td>\n",
       "    </tr>\n",
       "    <tr>\n",
       "      <th>1.0</th>\n",
       "      <td>0.0</td>\n",
       "      <td>0.000000</td>\n",
       "      <td>193.0</td>\n",
       "      <td>0.005902</td>\n",
       "      <td>0.178649</td>\n",
       "      <td>1.0</td>\n",
       "    </tr>\n",
       "    <tr>\n",
       "      <th>2.0</th>\n",
       "      <td>12.0</td>\n",
       "      <td>196.396340</td>\n",
       "      <td>268.0</td>\n",
       "      <td>0.042824</td>\n",
       "      <td>0.001159</td>\n",
       "      <td>1.0</td>\n",
       "    </tr>\n",
       "    <tr>\n",
       "      <th>3.0</th>\n",
       "      <td>0.0</td>\n",
       "      <td>0.000000</td>\n",
       "      <td>336.0</td>\n",
       "      <td>0.000231</td>\n",
       "      <td>0.019603</td>\n",
       "      <td>1.0</td>\n",
       "    </tr>\n",
       "    <tr>\n",
       "      <th>4.0</th>\n",
       "      <td>1.0</td>\n",
       "      <td>175.270211</td>\n",
       "      <td>361.0</td>\n",
       "      <td>0.007442</td>\n",
       "      <td>0.022955</td>\n",
       "      <td>1.0</td>\n",
       "    </tr>\n",
       "  </tbody>\n",
       "</table>\n",
       "</div>"
      ],
      "text/plain": [
       "             frequency     recency      T    lambda         p  alive\n",
       "customer_id                                                         \n",
       "0.0                0.0    0.000000  327.0  0.006389  0.002465    1.0\n",
       "1.0                0.0    0.000000  193.0  0.005902  0.178649    1.0\n",
       "2.0               12.0  196.396340  268.0  0.042824  0.001159    1.0\n",
       "3.0                0.0    0.000000  336.0  0.000231  0.019603    1.0\n",
       "4.0                1.0  175.270211  361.0  0.007442  0.022955    1.0"
      ]
     },
     "execution_count": 22,
     "metadata": {},
     "output_type": "execute_result"
    }
   ],
   "source": [
    "# Simulate calibration visits based on estimated bg/nbd model parameters:\n",
    "\n",
    "simulated_bgnbd = bgf.generate_new_data(size = len(CBS))\n",
    "simulated_bgnbd.head()"
   ]
  },
  {
   "cell_type": "code",
   "execution_count": 23,
   "metadata": {},
   "outputs": [],
   "source": [
    "# Define function to transform individual-level actual calibration and holdout summary data to data frame\n",
    "# with columns of 'freq' and 'count':\n",
    "\n",
    "def transform_cal_hold_to_freq_count(df):\n",
    "    return pd.DataFrame(df['frequency_cal'].value_counts().sort_index())\\\n",
    "                    .reset_index().rename(columns = {'index':'freq','frequency_cal':'count'})"
   ]
  },
  {
   "cell_type": "code",
   "execution_count": 24,
   "metadata": {},
   "outputs": [],
   "source": [
    "# Define function to transform simulated data to dataframe with columns of 'freq' and 'count':\n",
    "\n",
    "def transform_sim_to_freq_count(df):\n",
    "    return pd.DataFrame(df['frequency'].value_counts().\\\n",
    "                        sort_index().reset_index().\\\n",
    "                        rename(columns = {'index': 'freq', 'frequency': 'count'}))"
   ]
  },
  {
   "cell_type": "code",
   "execution_count": 25,
   "metadata": {},
   "outputs": [],
   "source": [
    "# Define function to bin frequencies for dataframe with columns named 'freq' and 'count':\n",
    "\n",
    "def binned_max_freq(df,max_x):\n",
    "    return df.loc[0:max_x].append({'freq':str(max_x) + '+',\\\n",
    "                                   'count':df[df.iloc[:,0] >= max_x].iloc[:,1].sum()},\\\n",
    "                                        ignore_index = True)"
   ]
  },
  {
   "cell_type": "code",
   "execution_count": 26,
   "metadata": {},
   "outputs": [],
   "source": [
    "# Transform individual-level actual calibration and holdout summary data to data frame (customer by sufficient statistics):\n",
    "\n",
    "actual_cal_freq = transform_cal_hold_to_freq_count(CBS)\n",
    "\n",
    "# Transform simulated data to dataframe with columns of 'freq' and 'count':\n",
    "\n",
    "simulated_cal_freq_bgnbd = transform_sim_to_freq_count(simulated_bgnbd)"
   ]
  },
  {
   "cell_type": "code",
   "execution_count": 27,
   "metadata": {},
   "outputs": [],
   "source": [
    "# Group transformed actual and simulated data with max frequency of 40:\n",
    "\n",
    "actual_binned = binned_max_freq(actual_cal_freq, 40)\n",
    "simulated_binned_bgnbd = binned_max_freq(simulated_cal_freq_bgnbd, 40)"
   ]
  },
  {
   "cell_type": "code",
   "execution_count": 28,
   "metadata": {},
   "outputs": [
    {
     "data": {
      "text/html": [
       "<div>\n",
       "<style scoped>\n",
       "    .dataframe tbody tr th:only-of-type {\n",
       "        vertical-align: middle;\n",
       "    }\n",
       "\n",
       "    .dataframe tbody tr th {\n",
       "        vertical-align: top;\n",
       "    }\n",
       "\n",
       "    .dataframe thead th {\n",
       "        text-align: right;\n",
       "    }\n",
       "</style>\n",
       "<table border=\"1\" class=\"dataframe\">\n",
       "  <thead>\n",
       "    <tr style=\"text-align: right;\">\n",
       "      <th></th>\n",
       "      <th>visits</th>\n",
       "      <th>actual_counts</th>\n",
       "      <th>simulated_counts</th>\n",
       "    </tr>\n",
       "  </thead>\n",
       "  <tbody>\n",
       "    <tr>\n",
       "      <th>0</th>\n",
       "      <td>0.0</td>\n",
       "      <td>53840</td>\n",
       "      <td>50702</td>\n",
       "    </tr>\n",
       "    <tr>\n",
       "      <th>1</th>\n",
       "      <td>1.0</td>\n",
       "      <td>19275</td>\n",
       "      <td>22838</td>\n",
       "    </tr>\n",
       "    <tr>\n",
       "      <th>2</th>\n",
       "      <td>2.0</td>\n",
       "      <td>10242</td>\n",
       "      <td>10873</td>\n",
       "    </tr>\n",
       "    <tr>\n",
       "      <th>3</th>\n",
       "      <td>3.0</td>\n",
       "      <td>6476</td>\n",
       "      <td>6911</td>\n",
       "    </tr>\n",
       "    <tr>\n",
       "      <th>4</th>\n",
       "      <td>4.0</td>\n",
       "      <td>4541</td>\n",
       "      <td>5138</td>\n",
       "    </tr>\n",
       "  </tbody>\n",
       "</table>\n",
       "</div>"
      ],
      "text/plain": [
       "  visits  actual_counts  simulated_counts\n",
       "0    0.0          53840             50702\n",
       "1    1.0          19275             22838\n",
       "2    2.0          10242             10873\n",
       "3    3.0           6476              6911\n",
       "4    4.0           4541              5138"
      ]
     },
     "execution_count": 28,
     "metadata": {},
     "output_type": "execute_result"
    }
   ],
   "source": [
    "# Merge actual and simulated frequency and count data to get a table that counts the actual number and simulated\n",
    "# number of patrons who made 0, 1, 2, ..., 40+ repeat transactions during calibration period.\n",
    "# This table is used to generate the bar plot which show the comparison of actual counts and simulated counts\n",
    "# of each visit frequency.\n",
    "# Below shows first five row of this table:\n",
    "\n",
    "cal_actual_sim_bgnbd = actual_binned.merge(simulated_binned_bgnbd, how = 'outer', on = 'freq')\n",
    "cal_actual_sim_bgnbd = cal_actual_sim_bgnbd.rename\\\n",
    "            (columns ={'freq':'visits' ,'count_x':'actual_counts','count_y':\"simulated_counts\"})\n",
    "cal_actual_sim_bgnbd['visits'] = cal_actual_sim_bgnbd['visits'].astype(str)\n",
    "cal_actual_sim_bgnbd.head()"
   ]
  },
  {
   "cell_type": "code",
   "execution_count": 29,
   "metadata": {},
   "outputs": [
    {
     "data": {
      "text/plain": [
       "Text(0, 0.5, 'Number of Players')"
      ]
     },
     "execution_count": 29,
     "metadata": {},
     "output_type": "execute_result"
    },
    {
     "data": {
      "image/png": "[encoded data removed]",
      "text/plain": [
       "<Figure size 576x432 with 1 Axes>"
      ]
     },
     "metadata": {
      "needs_background": "light"
     },
     "output_type": "display_data"
    }
   ],
   "source": [
    "# Plot actual visits vs. simulated visits during calibration period under estimated bg/nbd model:\n",
    "\n",
    "%matplotlib inline\n",
    "bgnbd_actual_pred_cal_plot = cal_actual_sim_bgnbd.plot(kind = 'bar', figsize = (8,6))\n",
    "bgnbd_actual_pred_cal_plot.set_title('Count of Actual vs. Predicted No. of Visits in Calibration Period',\\\n",
    "                                      fontweight = \"bold\", pad = 20)\n",
    "bgnbd_actual_pred_cal_plot.legend(['Actual','Simulated'])\n",
    "bgnbd_actual_pred_cal_plot.set_xticklabels(cal_actual_sim_bgnbd['visits'])[0]\n",
    "bgnbd_actual_pred_cal_plot.set_xlabel('Number of Visits in Calibration')\n",
    "bgnbd_actual_pred_cal_plot.set_ylabel('Number of Players')"
   ]
  },
  {
   "cell_type": "code",
   "execution_count": 33,
   "metadata": {},
   "outputs": [],
   "source": [
    "# Define function to generate data frame with actual frequency and predicted freqency at holdout period\n",
    "# from original individual-level calibration and holdout summary data (customer by sufficient statistics, or CBS):\n",
    "\n",
    "def generate_actual_pred_holdout_bgnbd(df):\n",
    "    \n",
    "    bgnbd_model = bgf.fit(df['frequency_cal'], df['recency_cal'], df['T_cal'])\n",
    "    \n",
    "    df['predict_holdout_bgnbd'] = bgnbd_model.predict(df['duration_holdout'],\\\n",
    "                                                      df['frequency_cal'],\\\n",
    "                                                      df['recency_cal'],\\\n",
    "                                                      df['T_cal'])\n",
    "    df = df.reset_index()\n",
    "    prediction = df.loc[:,['CustID','frequency_holdout','predict_holdout_bgnbd']]\n",
    "    prediction['predict_holdout_bgnbd'] = prediction['predict_holdout_bgnbd'].fillna(0)\n",
    "    prediction['predict_round_bgnbd'] = prediction['predict_holdout_bgnbd'].astype(int)\n",
    "    \n",
    "    return prediction"
   ]
  },
  {
   "cell_type": "code",
   "execution_count": 34,
   "metadata": {},
   "outputs": [
    {
     "data": {
      "text/html": [
       "<div>\n",
       "<style scoped>\n",
       "    .dataframe tbody tr th:only-of-type {\n",
       "        vertical-align: middle;\n",
       "    }\n",
       "\n",
       "    .dataframe tbody tr th {\n",
       "        vertical-align: top;\n",
       "    }\n",
       "\n",
       "    .dataframe thead th {\n",
       "        text-align: right;\n",
       "    }\n",
       "</style>\n",
       "<table border=\"1\" class=\"dataframe\">\n",
       "  <thead>\n",
       "    <tr style=\"text-align: right;\">\n",
       "      <th></th>\n",
       "      <th>CustID</th>\n",
       "      <th>frequency_holdout</th>\n",
       "      <th>predict_holdout_bgnbd</th>\n",
       "      <th>predict_round_bgnbd</th>\n",
       "    </tr>\n",
       "  </thead>\n",
       "  <tbody>\n",
       "    <tr>\n",
       "      <th>0</th>\n",
       "      <td>100001</td>\n",
       "      <td>0.0</td>\n",
       "      <td>0.132173</td>\n",
       "      <td>0</td>\n",
       "    </tr>\n",
       "    <tr>\n",
       "      <th>1</th>\n",
       "      <td>100005</td>\n",
       "      <td>0.0</td>\n",
       "      <td>0.675793</td>\n",
       "      <td>0</td>\n",
       "    </tr>\n",
       "    <tr>\n",
       "      <th>2</th>\n",
       "      <td>100006</td>\n",
       "      <td>1.0</td>\n",
       "      <td>1.536230</td>\n",
       "      <td>1</td>\n",
       "    </tr>\n",
       "    <tr>\n",
       "      <th>3</th>\n",
       "      <td>100011</td>\n",
       "      <td>12.0</td>\n",
       "      <td>6.955938</td>\n",
       "      <td>6</td>\n",
       "    </tr>\n",
       "    <tr>\n",
       "      <th>4</th>\n",
       "      <td>100015</td>\n",
       "      <td>5.0</td>\n",
       "      <td>19.337787</td>\n",
       "      <td>19</td>\n",
       "    </tr>\n",
       "  </tbody>\n",
       "</table>\n",
       "</div>"
      ],
      "text/plain": [
       "   CustID  frequency_holdout  predict_holdout_bgnbd  predict_round_bgnbd\n",
       "0  100001                0.0               0.132173                    0\n",
       "1  100005                0.0               0.675793                    0\n",
       "2  100006                1.0               1.536230                    1\n",
       "3  100011               12.0               6.955938                    6\n",
       "4  100015                5.0              19.337787                   19"
      ]
     },
     "execution_count": 34,
     "metadata": {},
     "output_type": "execute_result"
    }
   ],
   "source": [
    "# Generate predicted number of visits for each player during holdout period under BG/NBD:\n",
    "\n",
    "predict_holdout_bgnbd = generate_actual_pred_holdout_bgnbd(CBS)\n",
    "predict_holdout_bgnbd.head()"
   ]
  },
  {
   "cell_type": "code",
   "execution_count": 35,
   "metadata": {},
   "outputs": [
    {
     "data": {
      "text/html": [
       "<div>\n",
       "<style scoped>\n",
       "    .dataframe tbody tr th:only-of-type {\n",
       "        vertical-align: middle;\n",
       "    }\n",
       "\n",
       "    .dataframe tbody tr th {\n",
       "        vertical-align: top;\n",
       "    }\n",
       "\n",
       "    .dataframe thead th {\n",
       "        text-align: right;\n",
       "    }\n",
       "</style>\n",
       "<table border=\"1\" class=\"dataframe\">\n",
       "  <thead>\n",
       "    <tr style=\"text-align: right;\">\n",
       "      <th></th>\n",
       "      <th>transactions</th>\n",
       "      <th>actual_counts</th>\n",
       "      <th>predicted_counts</th>\n",
       "    </tr>\n",
       "  </thead>\n",
       "  <tbody>\n",
       "    <tr>\n",
       "      <th>0</th>\n",
       "      <td>0</td>\n",
       "      <td>77681</td>\n",
       "      <td>79086</td>\n",
       "    </tr>\n",
       "    <tr>\n",
       "      <th>1</th>\n",
       "      <td>1</td>\n",
       "      <td>15250</td>\n",
       "      <td>14113</td>\n",
       "    </tr>\n",
       "    <tr>\n",
       "      <th>2</th>\n",
       "      <td>2</td>\n",
       "      <td>8738</td>\n",
       "      <td>7952</td>\n",
       "    </tr>\n",
       "    <tr>\n",
       "      <th>3</th>\n",
       "      <td>3</td>\n",
       "      <td>5496</td>\n",
       "      <td>5594</td>\n",
       "    </tr>\n",
       "    <tr>\n",
       "      <th>4</th>\n",
       "      <td>4</td>\n",
       "      <td>3951</td>\n",
       "      <td>4120</td>\n",
       "    </tr>\n",
       "  </tbody>\n",
       "</table>\n",
       "</div>"
      ],
      "text/plain": [
       "  transactions  actual_counts  predicted_counts\n",
       "0            0          77681             79086\n",
       "1            1          15250             14113\n",
       "2            2           8738              7952\n",
       "3            3           5496              5594\n",
       "4            4           3951              4120"
      ]
     },
     "execution_count": 35,
     "metadata": {},
     "output_type": "execute_result"
    }
   ],
   "source": [
    "# Generate table that counts the actual number and simulated number of patrons who made \n",
    "# 0, 1, 2, ..., 40+ repeat transactions during holdout period unde rBG/NBD Model:\n",
    "\n",
    "\n",
    "holdout_actual_bgnbd = pd.DataFrame(predict_holdout_bgnbd[\"frequency_holdout\"].value_counts().sort_index())\\\n",
    "                         .reset_index().rename(columns = {'index':'freq','frequency_holdout':'count'})\n",
    "holdout_predict_bgnbd = pd.DataFrame(predict_holdout_bgnbd[\"predict_round_bgnbd\"].value_counts().sort_index())\\\n",
    "                          .reset_index().rename(columns = {'index':'freq','predict_round_bgnbd':'count'})\n",
    "    \n",
    "hd_actual_bgnbd_binned = binned_max_freq(holdout_actual_bgnbd, 40)\n",
    "hd_predict_bgnbd_binned = binned_max_freq(holdout_predict_bgnbd, 40)\n",
    "    \n",
    "hold_actual_pred_bgnbd = hd_actual_bgnbd_binned.merge(hd_predict_bgnbd_binned, how = 'outer', on = 'freq')\n",
    "hold_actual_pred_bgnbd = hold_actual_pred_bgnbd.rename\\\n",
    "              (columns ={'freq':'transactions' ,'count_x':'actual_counts','count_y':\"predicted_counts\"})\n",
    "\n",
    "hold_actual_pred_bgnbd.head()"
   ]
  },
  {
   "cell_type": "code",
   "execution_count": 37,
   "metadata": {},
   "outputs": [
    {
     "data": {
      "text/plain": [
       "Text(0, 0.5, 'Number of Players')"
      ]
     },
     "execution_count": 37,
     "metadata": {},
     "output_type": "execute_result"
    },
    {
     "data": {
      "image/png": "[encoded data removed]",
      "text/plain": [
       "<Figure size 576x432 with 1 Axes>"
      ]
     },
     "metadata": {
      "needs_background": "light"
     },
     "output_type": "display_data"
    }
   ],
   "source": [
    "# Plot actual visits vs. simulated visits during holdout period:\n",
    "\n",
    "%matplotlib inline\n",
    "bgnbd_actual_pred_hold_plot = hold_actual_pred_bgnbd.plot(kind = 'bar', figsize = (8,6))\n",
    "bgnbd_actual_pred_hold_plot.set_title('Count of Actual vs. Predicted No. of Transactions in Holdout Period',\\\n",
    "                                      fontweight = \"bold\", pad = 20)\n",
    "bgnbd_actual_pred_hold_plot.legend(['Actual','Predicted'])\n",
    "bgnbd_actual_pred_hold_plot.set_xticklabels(hold_actual_pred_bgnbd['transactions'])[0]\n",
    "bgnbd_actual_pred_hold_plot.set_xlabel('Number of Visits in Holdout')\n",
    "bgnbd_actual_pred_hold_plot.set_ylabel('Number of Players')"
   ]
  },
  {
   "cell_type": "code",
   "execution_count": 40,
   "metadata": {},
   "outputs": [
    {
     "data": {
      "text/plain": [
       "Text(45.125, 0.5, 'Density')"
      ]
     },
     "execution_count": 40,
     "metadata": {},
     "output_type": "execute_result"
    },
    {
     "data": {
      "image/png": "[encoded data removed]",
      "text/plain": [
       "<Figure size 576x576 with 1 Axes>"
      ]
     },
     "metadata": {
      "needs_background": "light"
     },
     "output_type": "display_data"
    }
   ],
   "source": [
    "# Plot probability density function that reflects transaction rate heterogeneity:\n",
    "\n",
    "%matplotlib inline\n",
    "\n",
    "import matplotlib.pyplot as plt\n",
    "import scipy\n",
    "from scipy import *\n",
    "\n",
    "r, alpha = bgnbd_model._unload_params(\"r\", \"alpha\")\n",
    "rate_mean = r / alpha\n",
    "rate_var = r / alpha ** 2\n",
    "rv = scipy.stats.gamma(r, scale=1 / alpha)\n",
    "lim = rv.ppf(0.99)\n",
    "x = np.linspace(0, lim, 100)\n",
    "\n",
    "fig, ax = plt.subplots(figsize = (8,8))\n",
    "fig.suptitle(\"Heterogeneity in Visiting Propensity\", fontweight=\"bold\")\n",
    "fig.tight_layout(rect=[0, 0.05, 1, 0.9])\n",
    "plt.plot(x, rv.pdf(x))\n",
    "\n",
    "ax.set_title(\"mean: {:.3f}, var: {:.3f}\".format(rate_mean, rate_var))\n",
    "ax.set_xlabel('Visiting Propensity')\n",
    "ax.set_ylabel('Density')"
   ]
  },
  {
   "cell_type": "code",
   "execution_count": 41,
   "metadata": {},
   "outputs": [
    {
     "data": {
      "text/plain": [
       "Text(45.125, 0.5, 'Density')"
      ]
     },
     "execution_count": 41,
     "metadata": {},
     "output_type": "execute_result"
    },
    {
     "data": {
      "image/png": "[encoded data removed]",
      "text/plain": [
       "<Figure size 576x576 with 1 Axes>"
      ]
     },
     "metadata": {
      "needs_background": "light"
     },
     "output_type": "display_data"
    }
   ],
   "source": [
    "# Plotting the probability density function that reflects dropout rate heterogeneity:\n",
    "\n",
    "%matplotlib inline\n",
    "\n",
    "import matplotlib.pyplot as plt\n",
    "from scipy import *\n",
    "\n",
    "a, b = bgnbd_model._unload_params(\"a\", \"b\")\n",
    "beta_mean = a / (a + b)\n",
    "beta_var = a * b / ((a + b) ** 2) / (a + b + 1)\n",
    "\n",
    "rv = scipy.stats.beta(a, b)\n",
    "lim = rv.ppf(0.99)\n",
    "x = np.linspace(0, lim, 100)\n",
    "\n",
    "fig, ax = plt.subplots(figsize = (8,8))\n",
    "fig.suptitle(\"Heterogeneity in Dropout Propensity\", fontweight = \"bold\")\n",
    "fig.tight_layout(rect=[0, 0.05, 1, 0.9])\n",
    "plt.plot(x, rv.pdf(x))\n",
    "\n",
    "ax.set_title(\"mean: {:.3f}, var: {:.3f}\".format(beta_mean, beta_var))\n",
    "ax.set_xlabel('Dropout Propensity')\n",
    "ax.set_ylabel('Density')"
   ]
  },
  {
   "cell_type": "code",
   "execution_count": 42,
   "metadata": {},
   "outputs": [
    {
     "data": {
      "text/plain": [
       "<matplotlib.axes._subplots.AxesSubplot at 0x2d9814ddc50>"
      ]
     },
     "execution_count": 42,
     "metadata": {},
     "output_type": "execute_result"
    },
    {
     "data": {
      "image/png": "[encoded data removed]",
      "text/plain": [
       "<Figure size 576x288 with 2 Axes>"
      ]
     },
     "metadata": {
      "needs_background": "light"
     },
     "output_type": "display_data"
    }
   ],
   "source": [
    "# Plotting the expected number of visits, given a customer of age t:\n",
    "\n",
    "def plot_expected_future_trans(age, t):\n",
    "    \n",
    "    import matplotlib.pyplot as plt\n",
    "    \n",
    "    d = pd.DataFrame(np.zeros((age,age)))\n",
    "    \n",
    "    for i in range(age):\n",
    "        for j in range(i):\n",
    "            d.at[j,i] = bgf.predict(t, j, i, age)\n",
    "    \n",
    "    fig, ax = plt.subplots(figsize=(8,4))\n",
    "    exp_future_trans = sns.heatmap(d.T,cmap = 'YlGnBu', ax = ax)\n",
    "    exp_future_trans.set_title(\"Expected Number of Transactions of a Customer with Age \" + str(age), \\\n",
    "                                fontweight = \"bold\", pad = 20)\n",
    "    exp_future_trans.set_xlabel(\"Customer's Historical Frquency\")\n",
    "    exp_future_trans.set_ylabel(\"Customer's Recency\")\n",
    "    \n",
    "    \n",
    "    return exp_future_trans\n",
    "\n",
    "plot_expected_future_trans(300,161)"
   ]
  },
  {
   "cell_type": "code",
   "execution_count": null,
   "metadata": {},
   "outputs": [],
   "source": []
  }
 ],
 "metadata": {
  "kernelspec": {
   "display_name": "Python 3",
   "language": "python",
   "name": "python3"
  },
  "language_info": {
   "codemirror_mode": {
    "name": "ipython",
    "version": 3
   },
   "file_extension": ".py",
   "mimetype": "text/x-python",
   "name": "python",
   "nbconvert_exporter": "python",
   "pygments_lexer": "ipython3",
   "version": "3.7.3"
  }
 },
 "nbformat": 4,
 "nbformat_minor": 2
}
